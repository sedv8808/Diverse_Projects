{
 "cells": [
  {
   "cell_type": "markdown",
   "metadata": {},
   "source": [
    "# DSCI 571 lab 3"
   ]
  },
  {
   "cell_type": "code",
   "execution_count": 1,
   "metadata": {},
   "outputs": [],
   "source": [
    "import pandas as pd\n",
    "import matplotlib.pyplot as plt\n",
    "%matplotlib inline\n",
    "import numpy as np\n",
    "\n",
    "from sklearn.model_selection import train_test_split\n",
    "from sklearn import tree \n",
    "from ipy_table import *"
   ]
  },
  {
   "cell_type": "markdown",
   "metadata": {},
   "source": [
    "## Instructions\n",
    "rubric={mechanics:2}\n",
    "\n",
    "Follow the [general lab instructions](https://ubc-mds.github.io/resources_pages/general_lab_instructions/).\n"
   ]
  },
  {
   "cell_type": "markdown",
   "metadata": {},
   "source": [
    "## Introduction \n",
    "The learning objectives of this lab are:\n",
    "1. to learn how to use common evaluation metrics used in machine learning\n",
    "2. to understand the Naive Bayes algorithm and how to use it with `scikit-learn`"
   ]
  },
  {
   "cell_type": "markdown",
   "metadata": {},
   "source": [
    "## Exercise 1: Precision and recall \"by hand\"\n",
    "rubric={reasoning:4}\n",
    "\n",
    "\n",
    "Below is the confusion matrix of a machine learning system that predicts whether a cancer is malignant or not. \n",
    "\n",
    "|    Actual      | Predicted Benign | Predicted Malignant |\n",
    "| :------------- | -----------------------: | -----------------------: |\n",
    "| **Actual Benign**       | 438 | 6 |\n",
    "| **Actual Malignant**       | 50 | 194 |\n",
    "\n",
    "1. What is the accuracy of the classifier? \n",
    "2. What are the precision and recall? \n",
    "3. Discuss which evaluation metric would be more informative in this case. "
   ]
  },
  {
   "cell_type": "markdown",
   "metadata": {},
   "source": [
    "**Answers:** \n",
    "1. Accuracy = (194 + 438)/(194 + 438 + 50 + 6) = 0.91\n",
    "2. Precision = TP / (TP + FP) = 194 / (194 + 6) = 0.97<br>\n",
    "Recall = TP/(TP + FN) = 194 / (194 + 50) = 0.79\n",
    "3. Precision and recall would be more informative in this case because \n",
    "    - The data is unbalanced with respect to the labels; there are many more benign cases compared to malignant cases.\n",
    "    - Although the system is _precise_ in identifying malignant cases, it has a low recall; it misses many such cases. Accuracy does not tell the whole story in this case. In particular, it does not convey the information that the system mislabels many malignant cases as benign.  "
   ]
  },
  {
   "cell_type": "markdown",
   "metadata": {},
   "source": [
    "## Exercise 2: Naive Bayes \"by hand\"\n",
    "\n",
    "Consider the dataset below, which has $10$ training examples and $3$ features:\n",
    "\n",
    "$$X = \\begin{bmatrix}0 & 0 & 1\\\\0 & 1 & 1\\\\ 0 & 1 & 1\\\\ 1 & 1 & 0\\\\0 & 1 & 0\\\\0 & 1 & 1\\\\1 & 0 & 0\\\\1 & 1 & 0\\\\1 & 0 & 1\\\\1 & 0 & 0\\\\\\end{bmatrix}, \\quad y = \\begin{bmatrix}\\text{spam}\\\\\\text{spam}\\\\\\text{spam}\\\\\\text{spam}\\\\\\text{spam}\\\\\\text{spam}\\\\\\text{not spam}\\\\\\text{not spam}\\\\\\text{not spam}\\\\\\text{not spam}\\end{bmatrix}$$\n",
    "\n",
    "The feature in the first column is `<your name>` (whether the e-mail contained your name), in the second column is \"pharmaceutical\" (whether the e-mail contained this word), and the third column is \"PayPal\" (whether the e-mail contained this word).\n",
    "Suppose you believe that a naive Bayes model would be appropriate for this dataset, and you want to classify the following test example:\n",
    "\n",
    "$$\\hat{x} = \\begin{bmatrix}1 & 1 & 0\\end{bmatrix}$$"
   ]
  },
  {
   "cell_type": "markdown",
   "metadata": {},
   "source": [
    "### 2(a) Prior probabilities\n",
    "rubric={raw:2}\n",
    "\n",
    "Compute the estimates of the class prior probabilities (you don't need to show any work):\n",
    "1. $p(\\text{spam})$.\n",
    "2. $p(\\text{not spam})$."
   ]
  },
  {
   "cell_type": "markdown",
   "metadata": {},
   "source": [
    "**Answers:** $6/10$, $4/10$"
   ]
  },
  {
   "cell_type": "markdown",
   "metadata": {},
   "source": [
    "### 2(b) Conditional probabilities\n",
    "rubric={raw:6}\n",
    "\n",
    "Compute the estimates of the 6 conditional probabilities required by naive Bayes for this example (you don't need to show any work):\n",
    "\n",
    "1. $p(\\text{your name} = 1  \\mid \\text{spam})$.\n",
    "2. $p(\\text{pharmaceutical} = 1 \\mid \\text{spam})$.\n",
    "3. $p(\\text{PayPal} = 0  \\mid \\text{spam})$.\n",
    "4. $p(\\text{your name} = 1  \\mid \\text{not spam})$\n",
    "5. $p(\\text{pharmaceutical} = 1  \\mid \\text{not spam})$.\n",
    "6. $p(\\text{PayPal} = 0  \\mid \\text{not spam})$."
   ]
  },
  {
   "cell_type": "markdown",
   "metadata": {},
   "source": [
    "**Answers:** 1/6, 5/6, 2/6, 1, 1/4, 3/4"
   ]
  },
  {
   "cell_type": "markdown",
   "metadata": {},
   "source": [
    "### 2(c) Prediction\n",
    "rubric={reasoning:4}\n",
    "\n",
    "Under the naive Bayes model and your estimates of the above probabilities, what is the most likely label for the test example? (Show your work.)"
   ]
  },
  {
   "cell_type": "markdown",
   "metadata": {},
   "source": [
    "**Answer:**\n",
    "\n",
    "$$p(\\text{spam} \\mid x_1 = 1, x_2 = 1, x_3 = 0) \\propto p( x_1 = 1, x_2 = 1, x_3 = 0 \\mid \\text{spam})p(\\text{spam}) $$\n",
    "\n",
    "$$ = p(x_1 = 1\\mid \\text{spam})p(x_2 = 1 \\mid \\text{spam})p(x_3 = 0 \\mid \\text{spam})p(\\text{spam})$$\n",
    "\n",
    "$$ = (1/6)(5/6)(2/6)(6/10) $$\n",
    "\n",
    "$$\\approx 0.028 $$\n",
    "\n",
    "And\n",
    "\n",
    "$$p(\\text{not spam} \\mid  x_1 = 1, x_2 = 1, x_3 = 0) \\propto p( x_1 = 1, x_2 = 1, x_3 = 0 \\mid \\text{not spam})p(\\text{not spam}) $$\n",
    "\n",
    "$$ = p(x_1 = 1 \\mid \\text{not spam})p(x_2 = 1 \\mid \\text{not spam})p(x_3 = 0 \\mid \\text{not spam})p(\\text{not spam})  $$\n",
    "\n",
    "$$ = (1)(1/4)(3/4)(4/10) $$\n",
    "\n",
    "$$ \\approx 0.075.$$\n",
    "\n",
    "Since $p(\\text{not spam} \\mid  x_1 = 1, x_2 = 1, x_3 = 0)$ is proportional to a bigger number, and the proportionality constants are the same $(p(x_1=1,x_2=1,x_3=0))$, we would predict \"not spam\"."
   ]
  },
  {
   "cell_type": "markdown",
   "metadata": {},
   "source": [
    "### (optional) 2(d) Laplace smoothing\n",
    "rubric={reasoning:1}\n",
    "\n",
    "One way to think of Laplace smoothing is that you're augmenting the training set with extra counts. Consider the estimates of the conditional probabilities in this dataset when we use Laplace smoothing (with $\\beta = 1$). Give a set of extra training examples that we could add to the original training set that would make the basic estimates give us the estimates with Laplace smoothing. In other words give a set of extra training examples that, if they were included in the training set and we didn't use Laplace smoothing, would give the same estimates of the conditional probabilities as using the original dataset with Laplace smoothing.\n",
    "Present your answer in a reasonably easy-to-read format, for example the same format as the data set at the start of this question."
   ]
  },
  {
   "cell_type": "markdown",
   "metadata": {},
   "source": [
    "**Answer:**\n",
    "\n",
    "You could add the following examples:\n",
    "\n",
    "$$X_\\beta = \\begin{bmatrix}0 & 0 & 0\\\\ 0 & 0 & 0 \\\\ 1 & 1 & 1 \\\\ 1 & 1 & 1\\end{bmatrix}, \\quad y_\\beta = \\begin{bmatrix}0 \\\\ 1 \\\\ 1 \\\\ 0\\end{bmatrix}.$$\n"
   ]
  },
  {
   "cell_type": "markdown",
   "metadata": {},
   "source": [
    "## Exercise 3: Naive Bayes for sentiment analysis\n",
    "\n",
    "Naive Bayes is popular in text classification tasks. In this exercise you will use \n",
    "[multinomial Naive Bayes algorithm](https://scikit-learn.org/stable/modules/generated/sklearn.naive_bayes.MultinomialNB.html#sklearn.naive_bayes.MultinomialNB) as implemented in `scikit-learn` for a text classification task called [sentiment analysis](https://en.wikipedia.org/wiki/Sentiment_analysis), which is a problem of assigning positive or negative label to a text based on the sentiment or attitude expressed in  it. \n",
    "\n",
    "You will use [IMDB movie review data set](https://www.kaggle.com/utathya/imdb-review-dataset) for this exercise. \n",
    "\n",
    "Download the CSV using the above link and unzip it. Please _do not commit the CSV to GitHub_ as it is very large. "
   ]
  },
  {
   "cell_type": "markdown",
   "metadata": {},
   "source": [
    "### 3(a) Loading data and preprocessing\n",
    "rubric={accuracy:2}\n",
    "\n",
    "1. Open the data CSV as a pandas DataFrame. (Hint: Use the `encoding` argument to open the CSV with the right encoding.)\n",
    "2. There are three possible labels in the dataset: `pos`, `neg`, and `unsup`. Discard rows with `unsup` label from the dataframe. "
   ]
  },
  {
   "cell_type": "markdown",
   "metadata": {},
   "source": [
    "**Answer:**"
   ]
  },
  {
   "cell_type": "code",
   "execution_count": 2,
   "metadata": {},
   "outputs": [
    {
     "data": {
      "text/html": [
       "<div>\n",
       "<style>\n",
       "    .dataframe thead tr:only-child th {\n",
       "        text-align: right;\n",
       "    }\n",
       "\n",
       "    .dataframe thead th {\n",
       "        text-align: left;\n",
       "    }\n",
       "\n",
       "    .dataframe tbody tr th {\n",
       "        vertical-align: top;\n",
       "    }\n",
       "</style>\n",
       "<table border=\"1\" class=\"dataframe\">\n",
       "  <thead>\n",
       "    <tr style=\"text-align: right;\">\n",
       "      <th></th>\n",
       "      <th>Unnamed: 0</th>\n",
       "      <th>type</th>\n",
       "      <th>review</th>\n",
       "      <th>label</th>\n",
       "      <th>file</th>\n",
       "    </tr>\n",
       "  </thead>\n",
       "  <tbody>\n",
       "    <tr>\n",
       "      <th>0</th>\n",
       "      <td>0</td>\n",
       "      <td>test</td>\n",
       "      <td>Once again Mr. Costner has dragged out a movie...</td>\n",
       "      <td>neg</td>\n",
       "      <td>0_2.txt</td>\n",
       "    </tr>\n",
       "    <tr>\n",
       "      <th>1</th>\n",
       "      <td>1</td>\n",
       "      <td>test</td>\n",
       "      <td>This is an example of why the majority of acti...</td>\n",
       "      <td>neg</td>\n",
       "      <td>10000_4.txt</td>\n",
       "    </tr>\n",
       "    <tr>\n",
       "      <th>2</th>\n",
       "      <td>2</td>\n",
       "      <td>test</td>\n",
       "      <td>First of all I hate those moronic rappers, who...</td>\n",
       "      <td>neg</td>\n",
       "      <td>10001_1.txt</td>\n",
       "    </tr>\n",
       "    <tr>\n",
       "      <th>3</th>\n",
       "      <td>3</td>\n",
       "      <td>test</td>\n",
       "      <td>Not even the Beatles could write songs everyon...</td>\n",
       "      <td>neg</td>\n",
       "      <td>10002_3.txt</td>\n",
       "    </tr>\n",
       "    <tr>\n",
       "      <th>4</th>\n",
       "      <td>4</td>\n",
       "      <td>test</td>\n",
       "      <td>Brass pictures (movies is not a fitting word f...</td>\n",
       "      <td>neg</td>\n",
       "      <td>10003_3.txt</td>\n",
       "    </tr>\n",
       "  </tbody>\n",
       "</table>\n",
       "</div>"
      ],
      "text/plain": [
       "   Unnamed: 0  type                                             review label  \\\n",
       "0           0  test  Once again Mr. Costner has dragged out a movie...   neg   \n",
       "1           1  test  This is an example of why the majority of acti...   neg   \n",
       "2           2  test  First of all I hate those moronic rappers, who...   neg   \n",
       "3           3  test  Not even the Beatles could write songs everyon...   neg   \n",
       "4           4  test  Brass pictures (movies is not a fitting word f...   neg   \n",
       "\n",
       "          file  \n",
       "0      0_2.txt  \n",
       "1  10000_4.txt  \n",
       "2  10001_1.txt  \n",
       "3  10002_3.txt  \n",
       "4  10003_3.txt  "
      ]
     },
     "execution_count": 2,
     "metadata": {},
     "output_type": "execute_result"
    }
   ],
   "source": [
    "imdb_df = pd.read_csv('imdb_master.csv', encoding = \"ISO-8859-1\")\n",
    "imdb_df.head()"
   ]
  },
  {
   "cell_type": "code",
   "execution_count": 3,
   "metadata": {},
   "outputs": [
    {
     "data": {
      "text/plain": [
       "unsup    50000\n",
       "neg      25000\n",
       "pos      25000\n",
       "Name: label, dtype: int64"
      ]
     },
     "execution_count": 3,
     "metadata": {},
     "output_type": "execute_result"
    }
   ],
   "source": [
    "imdb_df['label'].value_counts()"
   ]
  },
  {
   "cell_type": "code",
   "execution_count": 4,
   "metadata": {
    "collapsed": true,
    "jupyter": {
     "outputs_hidden": true
    }
   },
   "outputs": [],
   "source": [
    "# only consider positive and negative reviews\n",
    "imdb_df = imdb_df[imdb_df['label'].str.startswith(('pos','neg'))]"
   ]
  },
  {
   "cell_type": "markdown",
   "metadata": {},
   "source": [
    "### 3(b) Feature extraction\n",
    "rubric={accuracy:4,quality:2}\n",
    "\n",
    "The current data is in the form of moview reviews (text paragraphs) and their targets (`pos` or `neg`). \n",
    "You need to encode movie reviews into feature vectors so that you can train supervised machine learning models with `scikit-learn`. In this exercise you will do this in two different ways. \n",
    "\n",
    "#### Create word frequency counts (`X_counts`)\n",
    "Turn the text into sparse vector of word frequency counts using [CountVectorizer](https://scikit-learn.org/stable/modules/generated/sklearn.feature_extraction.text.CountVectorizer.html) from  `scikit-learn`. Note that this may take a while to run, as you'll be dealing with ~50,000 movie reviews. Optionally, explore the arguments of `CountVectorizer` (e.g., [`stop_words`](https://scikit-learn.org/stable/modules/feature_extraction.html#stop-words), `ngram_range`, `max_features`, `min_df`, and `tokenizer`).  \n",
    "\n",
    "#### Create binarized representation of words (`X_binary`)\n",
    "Create binarized encoding (`X_binary`) of `X_counts`, where you replace word frequencies $\\geq$ 1 by 1.    \n",
    "The intuition behind using binarized representation is that for sentiment analysis word occurrence may matter more than word frequency. For instance, the occurrence of the word _excellent_ tells us a lot and the fact that it occurs four times may not tell us much more. "
   ]
  },
  {
   "cell_type": "markdown",
   "metadata": {},
   "source": [
    "**Answer:**"
   ]
  },
  {
   "cell_type": "code",
   "execution_count": 5,
   "metadata": {
    "collapsed": true,
    "jupyter": {
     "outputs_hidden": true
    }
   },
   "outputs": [],
   "source": [
    "# For tokenization\n",
    "import nltk\n",
    "# For converting words into frequency counts\n",
    "from sklearn.feature_extraction.text import CountVectorizer"
   ]
  },
  {
   "cell_type": "code",
   "execution_count": 6,
   "metadata": {
    "collapsed": true,
    "jupyter": {
     "outputs_hidden": true
    }
   },
   "outputs": [],
   "source": [
    "# initialize movie_vector object and then turn movie reviews train data into a vector \n",
    "movie_vec = CountVectorizer(min_df=2, tokenizer=nltk.word_tokenize, stop_words='english')\n",
    "\n",
    "# use top 5000 words only\n",
    "# movie_vec = CountVectorizer(min_df=2, tokenizer=nltk.word_tokenize, max_features = 5000) \n",
    "X_counts = movie_vec.fit_transform(imdb_df['review'])\n",
    "\n",
    "# Convert raw frequency counts into binarized representation. \n",
    "X_binary = X_counts > 0"
   ]
  },
  {
   "cell_type": "markdown",
   "metadata": {},
   "source": [
    "### 3(c) Train Naive Bayes classifier\n",
    "rubric={accuracy:4,quality:2,reasoning:2}\n",
    "\n",
    "1. Split (`X_counts`, `imdb_df.label`) into train (80%) and test (20%).\n",
    "2. Train [multinomial Naive Bayes algorithm](https://scikit-learn.org/stable/modules/generated/sklearn.naive_bayes.MultinomialNB.html#sklearn.naive_bayes.MultinomialNB) on the train set. \n",
    "3. Report train and test accuracies.\n",
    "4. Now repeat steps 1, 2, and 3 with (`X_binary`, `imdb_df.label`). \n",
    "5. Compare your results for `X_counts` and `X_binary` and note your observations. "
   ]
  },
  {
   "cell_type": "markdown",
   "metadata": {},
   "source": [
    "**Answer:**"
   ]
  },
  {
   "cell_type": "code",
   "execution_count": 7,
   "metadata": {
    "collapsed": true,
    "jupyter": {
     "outputs_hidden": true
    }
   },
   "outputs": [],
   "source": [
    "from sklearn.naive_bayes import MultinomialNB\n",
    "from sklearn.naive_bayes import BernoulliNB"
   ]
  },
  {
   "cell_type": "code",
   "execution_count": 8,
   "metadata": {
    "collapsed": true,
    "jupyter": {
     "outputs_hidden": true
    }
   },
   "outputs": [],
   "source": [
    "def get_NB_train_test_accuracies(X, y, classifier = 'multinominal'):\n",
    "    \"\"\"\n",
    "    Given X, y, and the classifier, this function splits the \n",
    "    data into train and test splits, prints the train and test accuracies,\n",
    "    and returns the model.     \n",
    "    \"\"\"\n",
    "    X_train, X_test, y_train, y_test = train_test_split(X, \n",
    "                                                        y, \n",
    "                                                        test_size = 0.20, \n",
    "                                                        random_state = 12)\n",
    "    if classifier.startswith('multinominal'):\n",
    "        model = MultinomialNB().fit(X_train, y_train)\n",
    "    elif classifier.startswith('bernoulli'):\n",
    "        model = BernoulliNB().fit(X_train, y_train)\n",
    "    print('Training accuracy:', model.score(X_train, y_train))\n",
    "    print('Test accuracy: ', model.score(X_test, y_test))\n",
    "    print('---------')\n",
    "    return model"
   ]
  },
  {
   "cell_type": "code",
   "execution_count": 9,
   "metadata": {},
   "outputs": [
    {
     "name": "stdout",
     "output_type": "stream",
     "text": [
      "Evaluation on binarized encoding \n",
      "Training accuracy: 0.9013\n",
      "Test accuracy:  0.8567\n",
      "---------\n",
      "Evaluation on counts encoding \n",
      "Training accuracy: 0.899075\n",
      "Test accuracy:  0.8555\n",
      "---------\n"
     ]
    }
   ],
   "source": [
    "print('Evaluation on binarized encoding ')\n",
    "model_binary = get_NB_train_test_accuracies(X_binary, imdb_df.label, classifier = 'bernoulli')\n",
    "\n",
    "print('Evaluation on counts encoding ')\n",
    "model_counts = get_NB_train_test_accuracies(X_counts, imdb_df.label)"
   ]
  },
  {
   "cell_type": "markdown",
   "metadata": {},
   "source": [
    "**Discussion**\n",
    "\n",
    "For this dataset and with the specific `CountVectorizer` parameters used, we do not observe much difference between the test accuracies when word counts features were used vs. when word presence/absence features were used.   "
   ]
  },
  {
   "cell_type": "markdown",
   "metadata": {},
   "source": [
    "### (optional) 3(d) Test your model on fake reviews \n",
    "rubric={reasoning:1}\n",
    "\n",
    "Test your model on fake movie reviews. Some examples are given below. Add to this list, predict using the trained model, and note your observations. "
   ]
  },
  {
   "cell_type": "code",
   "execution_count": 10,
   "metadata": {
    "collapsed": true,
    "jupyter": {
     "outputs_hidden": true
    }
   },
   "outputs": [],
   "source": [
    "fake_reviews = ['This movie was excellent! The performances were oscar-worthy!',\n",
    "               'Unbelievably disappointing.', \n",
    "               'Full of zany characters and richly applied satire, and some great plot twists',\n",
    "               'This is the greatest screwball comedy ever filmed',\n",
    "               'It was pathetic. The worst part about it was the boxing scenes.', \n",
    "               '''It could have been a great movie. It could have been excellent, \n",
    "                and to all the people who have forgotten about the older, \n",
    "                greater movies before it, will think that as well. \n",
    "                It does have beautiful scenery, some of the best since Lord of the Rings. \n",
    "                The acting is well done, and I really liked the son of the leader of the Samurai.\n",
    "                He was a likeable chap, and I hated to see him die...\n",
    "                But, other than all that, this movie is nothing more than hidden rip-offs.\n",
    "                '''\n",
    "              ]\n",
    "gold_labels = ['pos', 'neg', 'pos', 'pos', 'neg', 'neg']"
   ]
  },
  {
   "cell_type": "code",
   "execution_count": 11,
   "metadata": {
    "collapsed": true,
    "jupyter": {
     "outputs_hidden": true
    }
   },
   "outputs": [],
   "source": [
    "# Create word count encoding of the reviews.  \n",
    "fake_reviews_counts = movie_vec.transform(fake_reviews)\n",
    "fake_reviews_binary = fake_reviews_counts > 0"
   ]
  },
  {
   "cell_type": "code",
   "execution_count": 12,
   "metadata": {},
   "outputs": [],
   "source": [
    "# Predict using the Naive Bayes classifier\n",
    "predictions = model_binary.predict(fake_reviews_binary)"
   ]
  },
  {
   "cell_type": "code",
   "execution_count": 13,
   "metadata": {},
   "outputs": [
    {
     "name": "stdout",
     "output_type": "stream",
     "text": [
      "['pos', 'neg', 'pos', 'pos', 'neg', 'pos']\n"
     ]
    }
   ],
   "source": [
    "print(predictions.tolist())"
   ]
  },
  {
   "cell_type": "code",
   "execution_count": 14,
   "metadata": {},
   "outputs": [
    {
     "data": {
      "text/html": [
       "<div>\n",
       "<style>\n",
       "    .dataframe thead tr:only-child th {\n",
       "        text-align: right;\n",
       "    }\n",
       "\n",
       "    .dataframe thead th {\n",
       "        text-align: left;\n",
       "    }\n",
       "\n",
       "    .dataframe tbody tr th {\n",
       "        vertical-align: top;\n",
       "    }\n",
       "</style>\n",
       "<table border=\"1\" class=\"dataframe\">\n",
       "  <thead>\n",
       "    <tr style=\"text-align: right;\">\n",
       "      <th></th>\n",
       "      <th>Gold labels</th>\n",
       "      <th>NB labels</th>\n",
       "      <th>Review</th>\n",
       "    </tr>\n",
       "  </thead>\n",
       "  <tbody>\n",
       "    <tr>\n",
       "      <th>0</th>\n",
       "      <td>pos</td>\n",
       "      <td>pos</td>\n",
       "      <td>This movie was excellent! The performances were oscar-worthy!</td>\n",
       "    </tr>\n",
       "    <tr>\n",
       "      <th>1</th>\n",
       "      <td>neg</td>\n",
       "      <td>neg</td>\n",
       "      <td>Unbelievably disappointing.</td>\n",
       "    </tr>\n",
       "    <tr>\n",
       "      <th>2</th>\n",
       "      <td>pos</td>\n",
       "      <td>pos</td>\n",
       "      <td>Full of zany characters and richly applied satire, and some great plot twists</td>\n",
       "    </tr>\n",
       "    <tr>\n",
       "      <th>3</th>\n",
       "      <td>pos</td>\n",
       "      <td>pos</td>\n",
       "      <td>This is the greatest screwball comedy ever filmed</td>\n",
       "    </tr>\n",
       "    <tr>\n",
       "      <th>4</th>\n",
       "      <td>neg</td>\n",
       "      <td>neg</td>\n",
       "      <td>It was pathetic. The worst part about it was the boxing scenes.</td>\n",
       "    </tr>\n",
       "    <tr>\n",
       "      <th>5</th>\n",
       "      <td>neg</td>\n",
       "      <td>pos</td>\n",
       "      <td>It could have been a great movie. It could have been excellent, \\n                and to all the people who have forgotten about the older, \\n                greater movies before it, will think that as well. \\n                It does have beautiful scenery, some of the best since Lord of the Rings. \\n                The acting is well done, and I really liked the son of the leader of the Samurai.\\n                He was a likeable chap, and I hated to see him die...\\n                But, other than all that, this movie is nothing more than hidden rip-offs.\\n</td>\n",
       "    </tr>\n",
       "  </tbody>\n",
       "</table>\n",
       "</div>"
      ],
      "text/plain": [
       "  Gold labels NB labels  \\\n",
       "0  pos         pos        \n",
       "1  neg         neg        \n",
       "2  pos         pos        \n",
       "3  pos         pos        \n",
       "4  neg         neg        \n",
       "5  neg         pos        \n",
       "\n",
       "                                                                                                                                                                                                                                                                                                                                                                                                                                                                                                                                                                                                  Review  \n",
       "0  This movie was excellent! The performances were oscar-worthy!                                                                                                                                                                                                                                                                                                                                                                                                                                                                                                                                          \n",
       "1  Unbelievably disappointing.                                                                                                                                                                                                                                                                                                                                                                                                                                                                                                                                                                            \n",
       "2  Full of zany characters and richly applied satire, and some great plot twists                                                                                                                                                                                                                                                                                                                                                                                                                                                                                                                          \n",
       "3  This is the greatest screwball comedy ever filmed                                                                                                                                                                                                                                                                                                                                                                                                                                                                                                                                                      \n",
       "4  It was pathetic. The worst part about it was the boxing scenes.                                                                                                                                                                                                                                                                                                                                                                                                                                                                                                                                        \n",
       "5  It could have been a great movie. It could have been excellent, \\n                and to all the people who have forgotten about the older, \\n                greater movies before it, will think that as well. \\n                It does have beautiful scenery, some of the best since Lord of the Rings. \\n                The acting is well done, and I really liked the son of the leader of the Samurai.\\n                He was a likeable chap, and I hated to see him die...\\n                But, other than all that, this movie is nothing more than hidden rip-offs.\\n                  "
      ]
     },
     "execution_count": 14,
     "metadata": {},
     "output_type": "execute_result"
    }
   ],
   "source": [
    "pd.set_option('display.max_colwidth', 0)\n",
    "d = {'Review':fake_reviews, 'Gold labels':gold_labels, 'NB labels':predictions}\n",
    "df = pd.DataFrame(d)\n",
    "df"
   ]
  },
  {
   "cell_type": "markdown",
   "metadata": {},
   "source": [
    "Observations: \n",
    "1. Works fairly well when there are clear words indicating whether the review is positive or negative, as the features we are using are word features.\n",
    "2. Fails for more complex examples, where understanding the context and overall text is essential to correctly classify reviews. The last example has many positive words in the beginning but the last sentence negates all positivity in the previous text. We need to incorporate deeper linguistic knowledge to correctly classify such cases. "
   ]
  },
  {
   "cell_type": "markdown",
   "metadata": {},
   "source": [
    "## Exercise 4: Precision, recall, ROC, AUC using `scikit-learn`"
   ]
  },
  {
   "cell_type": "markdown",
   "metadata": {},
   "source": [
    "## 4(a) \n",
    "rubric={accuracy:4,quality:2,reasoning:2} \n",
    "\n",
    "1. Split (`X_binary`, `imdb_df.label`) into train (80%) and test (20%). Train multinomial Naive Bayes algorithm on the train set.\n",
    "2. Get [confusion matrix](https://scikit-learn.org/stable/modules/generated/sklearn.metrics.confusion_matrix.html) on the test portion and calculate precision and recall using the appropriate formulae.\n",
    "3. Now get precision and recall numbers using [classification report](https://scikit-learn.org/stable/modules/generated/sklearn.metrics.classification_report.html) on the test portion and cross-check your numbers with the numbers in this report.\n",
    "4. Plot an [ROC curve](https://scikit-learn.org/stable/modules/generated/sklearn.metrics.roc_curve.html). Report [AUC score](https://scikit-learn.org/stable/modules/generated/sklearn.metrics.roc_auc_score.html). \n",
    "5. Briefly discuss and compare scores you got with different evaluation metrics.  "
   ]
  },
  {
   "cell_type": "code",
   "execution_count": 15,
   "metadata": {
    "collapsed": true,
    "jupyter": {
     "outputs_hidden": true
    }
   },
   "outputs": [],
   "source": [
    "from sklearn.metrics import precision_score\n",
    "from sklearn.metrics import classification_report"
   ]
  },
  {
   "cell_type": "code",
   "execution_count": 16,
   "metadata": {},
   "outputs": [
    {
     "name": "stdout",
     "output_type": "stream",
     "text": [
      "Training accuracy: 0.9013\n",
      "Test accuracy:  0.8567\n",
      "---------\n"
     ]
    }
   ],
   "source": [
    "X_train, X_test, y_train, y_test = train_test_split(X_binary, \n",
    "                                                    imdb_df.label, \n",
    "                                                    test_size = 0.20, \n",
    "                                                    random_state = 12)\n",
    "\n",
    "# Train a Multinomial Naive Bayes classifier\n",
    "model = BernoulliNB().fit(X_train, y_train)\n",
    "print('Training accuracy:', model.score(X_train, y_train))\n",
    "print('Test accuracy: ', model.score(X_test, y_test))\n",
    "print('---------')\n"
   ]
  },
  {
   "cell_type": "code",
   "execution_count": 17,
   "metadata": {
    "collapsed": true,
    "jupyter": {
     "outputs_hidden": true
    }
   },
   "outputs": [],
   "source": [
    "predictions = list(model.predict(X_test))\n",
    "true_labels = y_test.tolist()"
   ]
  },
  {
   "cell_type": "code",
   "execution_count": 18,
   "metadata": {},
   "outputs": [
    {
     "name": "stdout",
     "output_type": "stream",
     "text": [
      "Precision:  0.877956081081081\n",
      "Recall:  0.829443447037702\n"
     ]
    }
   ],
   "source": [
    "from sklearn.metrics import confusion_matrix\n",
    "TN, FP, FN, TP = confusion_matrix(true_labels, predictions).ravel()\n",
    "precision = TP / (TP + FP)\n",
    "recall = TP / (TP + FN)\n",
    "print('Precision: ', precision)\n",
    "print('Recall: ', recall)"
   ]
  },
  {
   "cell_type": "code",
   "execution_count": 19,
   "metadata": {},
   "outputs": [
    {
     "name": "stdout",
     "output_type": "stream",
     "text": [
      "              precision    recall  f1-score   support\n",
      "\n",
      "         neg       0.84      0.88      0.86      4987\n",
      "         pos       0.88      0.83      0.85      5013\n",
      "\n",
      "   micro avg       0.86      0.86      0.86     10000\n",
      "   macro avg       0.86      0.86      0.86     10000\n",
      "weighted avg       0.86      0.86      0.86     10000\n",
      "\n"
     ]
    }
   ],
   "source": [
    "print(classification_report(true_labels, predictions))"
   ]
  },
  {
   "cell_type": "code",
   "execution_count": 20,
   "metadata": {},
   "outputs": [
    {
     "data": {
      "image/png": "[encoded data removed]",
      "text/plain": [
       "<Figure size 432x288 with 1 Axes>"
      ]
     },
     "metadata": {},
     "output_type": "display_data"
    }
   ],
   "source": [
    "from sklearn.metrics import roc_curve\n",
    "\n",
    "true_labels_bin = [1 if x == 'pos' else 0 for x in true_labels]\n",
    "predictions_bin = [1 if x == 'pos' else 0 for x in predictions]\n",
    "fpr, tpr, thresholds = roc_curve(true_labels_bin, model.predict_proba(X_test)[:,1])\n",
    "\n",
    "plt.plot(fpr, tpr);\n",
    "plt.plot((0,1),(0,1),'--k');\n",
    "plt.xlabel('false positive rate');\n",
    "plt.ylabel('true positive rate');"
   ]
  },
  {
   "cell_type": "code",
   "execution_count": 21,
   "metadata": {},
   "outputs": [
    {
     "data": {
      "text/plain": [
       "0.9285819572140308"
      ]
     },
     "execution_count": 21,
     "metadata": {},
     "output_type": "execute_result"
    }
   ],
   "source": [
    "from sklearn.metrics import roc_auc_score\n",
    "roc_auc_score(true_labels_bin, model.predict_proba(X_test)[:,1])"
   ]
  },
  {
   "cell_type": "markdown",
   "metadata": {},
   "source": [
    "**Discussion**\n",
    "\n",
    "1. First of all the precision and recall numbers calculated using the `confusion_matrix` method and using the `classification_report` are more or less the same. \n",
    "2. In the ROC curve we can see that there are many true positives and not many false positives with the given threshold. The area under the curve is 0.93. If there would have been more false positives with probability > threshold, the curve would have started leaning towards right at the beginning, reducing the area under the curve.  "
   ]
  },
  {
   "cell_type": "markdown",
   "metadata": {},
   "source": [
    "## (optional) 4(b) Imbalanced training data\n",
    "rubric={reasoning:1} \n",
    "\n",
    "1. Split (`X_binary`, `imdb_df.label`) into train (80%) and test (20%). Now take a subset of the training data so that you only retain 10% examples with `pos` label but keep 100% of the examples with `neg` label. \n",
    "2. Train Bernoulli Naive Bayes algorithm on this imbalanced train set.\n",
    "3. Get precision and recall numbers using [classification report](https://scikit-learn.org/stable/modules/generated/sklearn.metrics.classification_report.html) on the test portion (which won't be imbalanced). \n",
    "4. Compare these numbers with precision and recall numbers in 4(a)?"
   ]
  },
  {
   "cell_type": "code",
   "execution_count": 22,
   "metadata": {
    "collapsed": true,
    "jupyter": {
     "outputs_hidden": true
    }
   },
   "outputs": [],
   "source": [
    "# Split (`X_binary`, `imdb_df.label`) into train (80%) and test (20%)\n",
    "X_train, X_test, y_train, y_test = train_test_split(X_binary, \n",
    "                                                    imdb_df.label, \n",
    "                                                    test_size = 0.20, \n",
    "                                                    random_state = 12)\n",
    "\n",
    "# Create a dataframe from the sparse feature matrix and the label\n",
    "X_train_df = pd.DataFrame(X_train.toarray())\n",
    "X_train_df['label'] = y_train\n",
    "\n",
    "# Get positive and negative examples from the training data\n",
    "X_train_df_pos = X_train_df[X_train_df['label'] == 'pos']\n",
    "X_train_df_neg = X_train_df[X_train_df['label'] == 'neg']\n",
    "\n",
    "# Take only 10% of the positive examples\n",
    "X_train_df_pos_small = X_train_df_pos.sample(frac = 0.10) \n",
    "\n",
    "# Create a new dataframe with 10% positive examples and all of the negative examples. \n",
    "X_train_small_df = pd.concat([X_train_df_pos_small,X_train_df_neg])\n",
    "\n",
    "# Create X_train and y_train from the new dataframe\n",
    "y_train_small = X_train_small_df['label']\n",
    "X_train_small = X_train_small_df.loc[:, X_train_small_df.columns != 'label']"
   ]
  },
  {
   "cell_type": "code",
   "execution_count": 23,
   "metadata": {
    "collapsed": true,
    "jupyter": {
     "outputs_hidden": true
    }
   },
   "outputs": [],
   "source": [
    "# Train BernoulliNB with the smaller X_train and y_train\n",
    "model = BernoulliNB().fit(X_train_small, y_train_small)"
   ]
  },
  {
   "cell_type": "code",
   "execution_count": 24,
   "metadata": {},
   "outputs": [
    {
     "name": "stdout",
     "output_type": "stream",
     "text": [
      "              precision    recall  f1-score   support\n",
      "\n",
      "         neg       0.50      0.98      0.66      4987\n",
      "         pos       0.65      0.04      0.07      5013\n",
      "\n",
      "   micro avg       0.51      0.51      0.51     10000\n",
      "   macro avg       0.58      0.51      0.37     10000\n",
      "weighted avg       0.58      0.51      0.37     10000\n",
      "\n"
     ]
    }
   ],
   "source": [
    "print(classification_report(y_test, model.predict(X_test)))"
   ]
  },
  {
   "cell_type": "markdown",
   "metadata": {},
   "source": [
    "#### Observations\n",
    "\n",
    "The accuracies are markedly worse compared to 4(a). Since there are not many instances of positive reviews in the training data, it seems like the classifier is classifying most of the reviews as `neg`; the recall of `neg` class is very high (0.97) whereas the recall of `pos` class is very low (0.05). "
   ]
  },
  {
   "cell_type": "code",
   "execution_count": null,
   "metadata": {
    "collapsed": true,
    "jupyter": {
     "outputs_hidden": true
    }
   },
   "outputs": [],
   "source": []
  }
 ],
 "metadata": {
  "kernelspec": {
   "display_name": "Python 3",
   "language": "python",
   "name": "python3"
  },
  "language_info": {
   "codemirror_mode": {
    "name": "ipython",
    "version": 3
   },
   "file_extension": ".py",
   "mimetype": "text/x-python",
   "name": "python",
   "nbconvert_exporter": "python",
   "pygments_lexer": "ipython3",
   "version": "3.6.1"
  }
 },
 "nbformat": 4,
 "nbformat_minor": 4
}
