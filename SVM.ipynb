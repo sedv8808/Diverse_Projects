{
 "cells": [
  {
   "cell_type": "markdown",
   "metadata": {},
   "source": [
    "# DSCI 571 lab 4"
   ]
  },
  {
   "cell_type": "code",
   "execution_count": 1,
   "metadata": {
    "collapsed": true,
    "jupyter": {
     "outputs_hidden": true
    }
   },
   "outputs": [],
   "source": [
    "import pandas as pd\n",
    "import matplotlib.pyplot as plt\n",
    "%matplotlib inline\n",
    "import numpy as np\n",
    "\n",
    "from sklearn.model_selection import train_test_split\n",
    "from sklearn import tree \n",
    "\n",
    "from sklearn.tree import DecisionTreeClassifier\n",
    "from sklearn.neighbors import KNeighborsClassifier\n",
    "\n",
    "# For tokenization\n",
    "import nltk\n",
    "# For converting words into frequency counts\n",
    "from sklearn.feature_extraction.text import CountVectorizer"
   ]
  },
  {
   "cell_type": "markdown",
   "metadata": {},
   "source": [
    "## Instructions\n",
    "rubric={mechanics:2}\n",
    "\n",
    "Follow the [general lab instructions](https://ubc-mds.github.io/resources_pages/general_lab_instructions/).\n"
   ]
  },
  {
   "cell_type": "markdown",
   "metadata": {},
   "source": [
    "## Introduction \n",
    "The learning objectives of this lab are:\n",
    "\n",
    "1. to learn how to use ensemble methods with `scikit-learn`\n",
    "2. to learn linear classification methods with `scikit-learn`"
   ]
  },
  {
   "cell_type": "markdown",
   "metadata": {},
   "source": [
    "## Exercise 0: Data and preprocessing\n",
    "rubric={reasoning:2}\n",
    "\n",
    "Similar to lab3, for most of the exercises in this lab, unless specified otherwise, we will again be focusing on text classification task called sentiment analysis, which is a problem of assigning positive or negative label to a text based on the sentiment or attitude expressed in it.\n",
    "\n",
    "You will again be using [IMDB movie review data set](https://www.kaggle.com/utathya/imdb-review-dataset) but with a small change; you will use a subset of the IMDB reviews dataset with only 5,000 examples (compared to 50,000 examples in the original data). Note that more data is usually better but you will work with a subset in this lab for speed. \n",
    "\n",
    "The starter code for reading the CSV, taking a subset, and feature extraction (assuming that the imdb CSV with the name `imdb_master.csv` is available in the present directory) is given below. \n",
    "\n",
    "Read the code carefully and add documentation to this code by filling in the `# YOUR COMMENT` stubs. \n",
    "\n",
    "Please _do not commit any data files to GitHub_ as it is very large. "
   ]
  },
  {
   "cell_type": "markdown",
   "metadata": {},
   "source": [
    "### Begin starter code"
   ]
  },
  {
   "cell_type": "code",
   "execution_count": 2,
   "metadata": {},
   "outputs": [
    {
     "data": {
      "text/html": [
       "<div>\n",
       "<style>\n",
       "    .dataframe thead tr:only-child th {\n",
       "        text-align: right;\n",
       "    }\n",
       "\n",
       "    .dataframe thead th {\n",
       "        text-align: left;\n",
       "    }\n",
       "\n",
       "    .dataframe tbody tr th {\n",
       "        vertical-align: top;\n",
       "    }\n",
       "</style>\n",
       "<table border=\"1\" class=\"dataframe\">\n",
       "  <thead>\n",
       "    <tr style=\"text-align: right;\">\n",
       "      <th></th>\n",
       "      <th>Unnamed: 0</th>\n",
       "      <th>type</th>\n",
       "      <th>review</th>\n",
       "      <th>label</th>\n",
       "      <th>file</th>\n",
       "    </tr>\n",
       "  </thead>\n",
       "  <tbody>\n",
       "    <tr>\n",
       "      <th>0</th>\n",
       "      <td>0</td>\n",
       "      <td>test</td>\n",
       "      <td>Once again Mr. Costner has dragged out a movie...</td>\n",
       "      <td>neg</td>\n",
       "      <td>0_2.txt</td>\n",
       "    </tr>\n",
       "    <tr>\n",
       "      <th>1</th>\n",
       "      <td>1</td>\n",
       "      <td>test</td>\n",
       "      <td>This is an example of why the majority of acti...</td>\n",
       "      <td>neg</td>\n",
       "      <td>10000_4.txt</td>\n",
       "    </tr>\n",
       "    <tr>\n",
       "      <th>2</th>\n",
       "      <td>2</td>\n",
       "      <td>test</td>\n",
       "      <td>First of all I hate those moronic rappers, who...</td>\n",
       "      <td>neg</td>\n",
       "      <td>10001_1.txt</td>\n",
       "    </tr>\n",
       "    <tr>\n",
       "      <th>3</th>\n",
       "      <td>3</td>\n",
       "      <td>test</td>\n",
       "      <td>Not even the Beatles could write songs everyon...</td>\n",
       "      <td>neg</td>\n",
       "      <td>10002_3.txt</td>\n",
       "    </tr>\n",
       "    <tr>\n",
       "      <th>4</th>\n",
       "      <td>4</td>\n",
       "      <td>test</td>\n",
       "      <td>Brass pictures (movies is not a fitting word f...</td>\n",
       "      <td>neg</td>\n",
       "      <td>10003_3.txt</td>\n",
       "    </tr>\n",
       "  </tbody>\n",
       "</table>\n",
       "</div>"
      ],
      "text/plain": [
       "   Unnamed: 0  type                                             review label  \\\n",
       "0           0  test  Once again Mr. Costner has dragged out a movie...   neg   \n",
       "1           1  test  This is an example of why the majority of acti...   neg   \n",
       "2           2  test  First of all I hate those moronic rappers, who...   neg   \n",
       "3           3  test  Not even the Beatles could write songs everyon...   neg   \n",
       "4           4  test  Brass pictures (movies is not a fitting word f...   neg   \n",
       "\n",
       "          file  \n",
       "0      0_2.txt  \n",
       "1  10000_4.txt  \n",
       "2  10001_1.txt  \n",
       "3  10002_3.txt  \n",
       "4  10003_3.txt  "
      ]
     },
     "execution_count": 2,
     "metadata": {},
     "output_type": "execute_result"
    }
   ],
   "source": [
    "# Read IMDB movie reviews into a pandas DataFrame\n",
    "imdb_df = pd.read_csv('imdb_master.csv', encoding = \"ISO-8859-1\")\n",
    "imdb_df.head()"
   ]
  },
  {
   "cell_type": "code",
   "execution_count": 3,
   "metadata": {
    "collapsed": true,
    "jupyter": {
     "outputs_hidden": true
    }
   },
   "outputs": [],
   "source": [
    "# Only keep the reviews with pos and neg labels\n",
    "imdb_df = imdb_df[imdb_df['label'].str.startswith(('pos','neg'))]\n",
    "\n",
    "# Sample 5000 rows from the dataframe. \n",
    "imdb_df_subset = imdb_df.sample(n = 5000)\n",
    "\n",
    "# Convert a collection of text documents to a matrix of token presence or absence. \n",
    "# We are using only 5000 words, English stopwords, and tokenization is done using\n",
    "# nltk, which is a popular text processing library.\n",
    "movie_vec = CountVectorizer(max_features=5000, \n",
    "                            tokenizer=nltk.word_tokenize, \n",
    "                            stop_words='english', \n",
    "                            binary = True)\n",
    "# Create X and y\n",
    "X_imdb = movie_vec.fit_transform(imdb_df_subset['review'])\n",
    "y_imdb = imdb_df_subset.label"
   ]
  },
  {
   "cell_type": "markdown",
   "metadata": {},
   "source": [
    "### End starter code"
   ]
  },
  {
   "cell_type": "markdown",
   "metadata": {},
   "source": [
    "## Exercise 1. Random Forests"
   ]
  },
  {
   "cell_type": "markdown",
   "metadata": {},
   "source": [
    "### 1(a) Train a random forest classifier and compare it with decision trees\n",
    "rubric={accuracy:2,reasoning:2}\n",
    "\n",
    "1. Split `X_imdb` into train (80%) and test (20%). \n",
    "2. Train a decision tree classifier on the train portion. \n",
    "3. Train a [random forest classifier](http://scikit-learn.org/stable/modules/generated/sklearn.ensemble.RandomForestClassifier.html) on the train portion.\n",
    "4. Score both classifier on the test portion and compare the results. "
   ]
  },
  {
   "cell_type": "code",
   "execution_count": 4,
   "metadata": {
    "collapsed": true,
    "jupyter": {
     "outputs_hidden": true
    }
   },
   "outputs": [],
   "source": [
    "from sklearn.ensemble import RandomForestClassifier"
   ]
  },
  {
   "cell_type": "code",
   "execution_count": 5,
   "metadata": {},
   "outputs": [],
   "source": [
    "X_train, X_test, y_train, y_test = train_test_split(X_imdb, \n",
    "                                                    y_imdb, \n",
    "                                                    test_size = 0.20, \n",
    "                                                    random_state = 12)"
   ]
  },
  {
   "cell_type": "code",
   "execution_count": 6,
   "metadata": {},
   "outputs": [
    {
     "name": "stdout",
     "output_type": "stream",
     "text": [
      "1 loop, best of 3: 2.47 s per loop\n"
     ]
    }
   ],
   "source": [
    "random_forest = RandomForestClassifier(n_estimators = 100)\n",
    "%timeit random_forest.fit(X_train, y_train);"
   ]
  },
  {
   "cell_type": "code",
   "execution_count": 7,
   "metadata": {},
   "outputs": [
    {
     "name": "stdout",
     "output_type": "stream",
     "text": [
      "1 loop, best of 3: 874 ms per loop\n"
     ]
    }
   ],
   "source": [
    "decision_tree = tree.DecisionTreeClassifier()\n",
    "%timeit decision_tree.fit(X_train, y_train);"
   ]
  },
  {
   "cell_type": "code",
   "execution_count": 8,
   "metadata": {},
   "outputs": [
    {
     "data": {
      "text/plain": [
       "0.831"
      ]
     },
     "execution_count": 8,
     "metadata": {},
     "output_type": "execute_result"
    }
   ],
   "source": [
    "random_forest.score(X_test, y_test)"
   ]
  },
  {
   "cell_type": "code",
   "execution_count": 9,
   "metadata": {},
   "outputs": [
    {
     "data": {
      "text/plain": [
       "0.695"
      ]
     },
     "execution_count": 9,
     "metadata": {},
     "output_type": "execute_result"
    }
   ],
   "source": [
    "decision_tree.score(X_test, y_test)"
   ]
  },
  {
   "cell_type": "markdown",
   "metadata": {},
   "source": [
    "**Discussion**\n",
    "\n",
    "For this dataset, the accuracy of the random forest classifier is clearly better than the decision tree classifier. That said, the time required to `fit` a model is higher for random forests compared to the decision tree model, especially for larger values of `n_estimators`, which is intuitive given that random forests do more work than a decision tree.  "
   ]
  },
  {
   "cell_type": "markdown",
   "metadata": {},
   "source": [
    "### 1(b) Hyperparameters\n",
    "rubric={accuracy:4,reasoning:2}\n",
    "\n",
    "1. Pick two choices of the random forest hyperparameters. You can choose any two hyperparameter sets of your choice, aside from the default. \n",
    "2. Report the training/test accuracy in each case. \n",
    "3. In each case, discuss whether you think there is any underfitting or overfitting."
   ]
  },
  {
   "cell_type": "code",
   "execution_count": 10,
   "metadata": {},
   "outputs": [
    {
     "data": {
      "text/html": [
       "<div>\n",
       "<style>\n",
       "    .dataframe thead tr:only-child th {\n",
       "        text-align: right;\n",
       "    }\n",
       "\n",
       "    .dataframe thead th {\n",
       "        text-align: left;\n",
       "    }\n",
       "\n",
       "    .dataframe tbody tr th {\n",
       "        vertical-align: top;\n",
       "    }\n",
       "</style>\n",
       "<table border=\"1\" class=\"dataframe\">\n",
       "  <thead>\n",
       "    <tr style=\"text-align: right;\">\n",
       "      <th></th>\n",
       "      <th>n_estimators</th>\n",
       "      <th>test_score</th>\n",
       "      <th>train_score</th>\n",
       "    </tr>\n",
       "  </thead>\n",
       "  <tbody>\n",
       "    <tr>\n",
       "      <th>0</th>\n",
       "      <td>1</td>\n",
       "      <td>0.641</td>\n",
       "      <td>0.86300</td>\n",
       "    </tr>\n",
       "    <tr>\n",
       "      <th>1</th>\n",
       "      <td>6</td>\n",
       "      <td>0.722</td>\n",
       "      <td>0.97175</td>\n",
       "    </tr>\n",
       "    <tr>\n",
       "      <th>2</th>\n",
       "      <td>11</td>\n",
       "      <td>0.773</td>\n",
       "      <td>0.99600</td>\n",
       "    </tr>\n",
       "    <tr>\n",
       "      <th>3</th>\n",
       "      <td>16</td>\n",
       "      <td>0.782</td>\n",
       "      <td>0.99800</td>\n",
       "    </tr>\n",
       "    <tr>\n",
       "      <th>4</th>\n",
       "      <td>21</td>\n",
       "      <td>0.791</td>\n",
       "      <td>0.99975</td>\n",
       "    </tr>\n",
       "    <tr>\n",
       "      <th>5</th>\n",
       "      <td>26</td>\n",
       "      <td>0.794</td>\n",
       "      <td>1.00000</td>\n",
       "    </tr>\n",
       "    <tr>\n",
       "      <th>6</th>\n",
       "      <td>31</td>\n",
       "      <td>0.816</td>\n",
       "      <td>1.00000</td>\n",
       "    </tr>\n",
       "    <tr>\n",
       "      <th>7</th>\n",
       "      <td>36</td>\n",
       "      <td>0.799</td>\n",
       "      <td>1.00000</td>\n",
       "    </tr>\n",
       "    <tr>\n",
       "      <th>8</th>\n",
       "      <td>41</td>\n",
       "      <td>0.826</td>\n",
       "      <td>1.00000</td>\n",
       "    </tr>\n",
       "    <tr>\n",
       "      <th>9</th>\n",
       "      <td>46</td>\n",
       "      <td>0.815</td>\n",
       "      <td>0.99975</td>\n",
       "    </tr>\n",
       "    <tr>\n",
       "      <th>10</th>\n",
       "      <td>51</td>\n",
       "      <td>0.819</td>\n",
       "      <td>1.00000</td>\n",
       "    </tr>\n",
       "    <tr>\n",
       "      <th>11</th>\n",
       "      <td>56</td>\n",
       "      <td>0.821</td>\n",
       "      <td>1.00000</td>\n",
       "    </tr>\n",
       "    <tr>\n",
       "      <th>12</th>\n",
       "      <td>61</td>\n",
       "      <td>0.828</td>\n",
       "      <td>1.00000</td>\n",
       "    </tr>\n",
       "    <tr>\n",
       "      <th>13</th>\n",
       "      <td>66</td>\n",
       "      <td>0.827</td>\n",
       "      <td>1.00000</td>\n",
       "    </tr>\n",
       "    <tr>\n",
       "      <th>14</th>\n",
       "      <td>71</td>\n",
       "      <td>0.821</td>\n",
       "      <td>1.00000</td>\n",
       "    </tr>\n",
       "    <tr>\n",
       "      <th>15</th>\n",
       "      <td>76</td>\n",
       "      <td>0.829</td>\n",
       "      <td>1.00000</td>\n",
       "    </tr>\n",
       "    <tr>\n",
       "      <th>16</th>\n",
       "      <td>81</td>\n",
       "      <td>0.834</td>\n",
       "      <td>1.00000</td>\n",
       "    </tr>\n",
       "    <tr>\n",
       "      <th>17</th>\n",
       "      <td>86</td>\n",
       "      <td>0.836</td>\n",
       "      <td>1.00000</td>\n",
       "    </tr>\n",
       "    <tr>\n",
       "      <th>18</th>\n",
       "      <td>91</td>\n",
       "      <td>0.839</td>\n",
       "      <td>1.00000</td>\n",
       "    </tr>\n",
       "    <tr>\n",
       "      <th>19</th>\n",
       "      <td>96</td>\n",
       "      <td>0.839</td>\n",
       "      <td>1.00000</td>\n",
       "    </tr>\n",
       "  </tbody>\n",
       "</table>\n",
       "</div>"
      ],
      "text/plain": [
       "    n_estimators  test_score  train_score\n",
       "0              1       0.641      0.86300\n",
       "1              6       0.722      0.97175\n",
       "2             11       0.773      0.99600\n",
       "3             16       0.782      0.99800\n",
       "4             21       0.791      0.99975\n",
       "5             26       0.794      1.00000\n",
       "6             31       0.816      1.00000\n",
       "7             36       0.799      1.00000\n",
       "8             41       0.826      1.00000\n",
       "9             46       0.815      0.99975\n",
       "10            51       0.819      1.00000\n",
       "11            56       0.821      1.00000\n",
       "12            61       0.828      1.00000\n",
       "13            66       0.827      1.00000\n",
       "14            71       0.821      1.00000\n",
       "15            76       0.829      1.00000\n",
       "16            81       0.834      1.00000\n",
       "17            86       0.836      1.00000\n",
       "18            91       0.839      1.00000\n",
       "19            96       0.839      1.00000"
      ]
     },
     "execution_count": 10,
     "metadata": {},
     "output_type": "execute_result"
    }
   ],
   "source": [
    "n_estimators_dict = {'n_estimators':[], 'train_score':[], 'test_score':[]}\n",
    "\n",
    "for n_est in range(1, 100, 5):\n",
    "    random_forest = RandomForestClassifier(n_estimators = n_est)\n",
    "    random_forest.fit(X_train, y_train)\n",
    "    \n",
    "    train_score = random_forest.score(X_train, y_train)        \n",
    "    test_score = random_forest.score(X_test, y_test)    \n",
    "\n",
    "    n_estimators_dict['n_estimators'].append(n_est)    \n",
    "    n_estimators_dict['train_score'].append(train_score)\n",
    "    n_estimators_dict['test_score'].append(test_score)\n",
    "n_estimators_df = pd.DataFrame(n_estimators_dict)\n",
    "n_estimators_df        "
   ]
  },
  {
   "cell_type": "code",
   "execution_count": 11,
   "metadata": {},
   "outputs": [
    {
     "data": {
      "image/png": "[encoded data removed]",
      "text/plain": [
       "<Figure size 432x288 with 1 Axes>"
      ]
     },
     "metadata": {},
     "output_type": "display_data"
    }
   ],
   "source": [
    "plt.plot(n_estimators_dict['n_estimators'], n_estimators_dict['train_score'], label = 'train')\n",
    "plt.plot(n_estimators_dict['n_estimators'], n_estimators_dict['test_score'], label = 'test')\n",
    "plt.xlabel('n_estimators')\n",
    "plt.ylabel('Accuracy')\n",
    "plt.legend()\n",
    "plt.show()"
   ]
  },
  {
   "cell_type": "markdown",
   "metadata": {},
   "source": [
    "** Discussion **\n",
    "\n",
    "For the `n_estimators` hyperparameter, the training accuracy reaches to 1.0 for n_estimators > 31. The test accuracy more or less starts plateauing at this point."
   ]
  },
  {
   "cell_type": "code",
   "execution_count": 12,
   "metadata": {},
   "outputs": [
    {
     "data": {
      "text/html": [
       "<div>\n",
       "<style>\n",
       "    .dataframe thead tr:only-child th {\n",
       "        text-align: right;\n",
       "    }\n",
       "\n",
       "    .dataframe thead th {\n",
       "        text-align: left;\n",
       "    }\n",
       "\n",
       "    .dataframe tbody tr th {\n",
       "        vertical-align: top;\n",
       "    }\n",
       "</style>\n",
       "<table border=\"1\" class=\"dataframe\">\n",
       "  <thead>\n",
       "    <tr style=\"text-align: right;\">\n",
       "      <th></th>\n",
       "      <th>depth</th>\n",
       "      <th>test_score</th>\n",
       "      <th>train_score</th>\n",
       "    </tr>\n",
       "  </thead>\n",
       "  <tbody>\n",
       "    <tr>\n",
       "      <th>0</th>\n",
       "      <td>1</td>\n",
       "      <td>0.613</td>\n",
       "      <td>0.62325</td>\n",
       "    </tr>\n",
       "    <tr>\n",
       "      <th>1</th>\n",
       "      <td>3</td>\n",
       "      <td>0.722</td>\n",
       "      <td>0.75875</td>\n",
       "    </tr>\n",
       "    <tr>\n",
       "      <th>2</th>\n",
       "      <td>5</td>\n",
       "      <td>0.759</td>\n",
       "      <td>0.79675</td>\n",
       "    </tr>\n",
       "    <tr>\n",
       "      <th>3</th>\n",
       "      <td>7</td>\n",
       "      <td>0.772</td>\n",
       "      <td>0.83325</td>\n",
       "    </tr>\n",
       "    <tr>\n",
       "      <th>4</th>\n",
       "      <td>9</td>\n",
       "      <td>0.795</td>\n",
       "      <td>0.86650</td>\n",
       "    </tr>\n",
       "    <tr>\n",
       "      <th>5</th>\n",
       "      <td>11</td>\n",
       "      <td>0.792</td>\n",
       "      <td>0.86900</td>\n",
       "    </tr>\n",
       "    <tr>\n",
       "      <th>6</th>\n",
       "      <td>13</td>\n",
       "      <td>0.778</td>\n",
       "      <td>0.88150</td>\n",
       "    </tr>\n",
       "    <tr>\n",
       "      <th>7</th>\n",
       "      <td>15</td>\n",
       "      <td>0.811</td>\n",
       "      <td>0.90825</td>\n",
       "    </tr>\n",
       "    <tr>\n",
       "      <th>8</th>\n",
       "      <td>17</td>\n",
       "      <td>0.772</td>\n",
       "      <td>0.91400</td>\n",
       "    </tr>\n",
       "    <tr>\n",
       "      <th>9</th>\n",
       "      <td>19</td>\n",
       "      <td>0.796</td>\n",
       "      <td>0.92700</td>\n",
       "    </tr>\n",
       "    <tr>\n",
       "      <th>10</th>\n",
       "      <td>21</td>\n",
       "      <td>0.794</td>\n",
       "      <td>0.94200</td>\n",
       "    </tr>\n",
       "    <tr>\n",
       "      <th>11</th>\n",
       "      <td>23</td>\n",
       "      <td>0.815</td>\n",
       "      <td>0.95350</td>\n",
       "    </tr>\n",
       "    <tr>\n",
       "      <th>12</th>\n",
       "      <td>25</td>\n",
       "      <td>0.788</td>\n",
       "      <td>0.95925</td>\n",
       "    </tr>\n",
       "    <tr>\n",
       "      <th>13</th>\n",
       "      <td>27</td>\n",
       "      <td>0.799</td>\n",
       "      <td>0.96000</td>\n",
       "    </tr>\n",
       "    <tr>\n",
       "      <th>14</th>\n",
       "      <td>29</td>\n",
       "      <td>0.791</td>\n",
       "      <td>0.97500</td>\n",
       "    </tr>\n",
       "    <tr>\n",
       "      <th>15</th>\n",
       "      <td>31</td>\n",
       "      <td>0.790</td>\n",
       "      <td>0.97250</td>\n",
       "    </tr>\n",
       "    <tr>\n",
       "      <th>16</th>\n",
       "      <td>33</td>\n",
       "      <td>0.796</td>\n",
       "      <td>0.97750</td>\n",
       "    </tr>\n",
       "    <tr>\n",
       "      <th>17</th>\n",
       "      <td>35</td>\n",
       "      <td>0.810</td>\n",
       "      <td>0.98225</td>\n",
       "    </tr>\n",
       "    <tr>\n",
       "      <th>18</th>\n",
       "      <td>37</td>\n",
       "      <td>0.801</td>\n",
       "      <td>0.97975</td>\n",
       "    </tr>\n",
       "    <tr>\n",
       "      <th>19</th>\n",
       "      <td>39</td>\n",
       "      <td>0.810</td>\n",
       "      <td>0.98475</td>\n",
       "    </tr>\n",
       "  </tbody>\n",
       "</table>\n",
       "</div>"
      ],
      "text/plain": [
       "    depth  test_score  train_score\n",
       "0       1       0.613      0.62325\n",
       "1       3       0.722      0.75875\n",
       "2       5       0.759      0.79675\n",
       "3       7       0.772      0.83325\n",
       "4       9       0.795      0.86650\n",
       "5      11       0.792      0.86900\n",
       "6      13       0.778      0.88150\n",
       "7      15       0.811      0.90825\n",
       "8      17       0.772      0.91400\n",
       "9      19       0.796      0.92700\n",
       "10     21       0.794      0.94200\n",
       "11     23       0.815      0.95350\n",
       "12     25       0.788      0.95925\n",
       "13     27       0.799      0.96000\n",
       "14     29       0.791      0.97500\n",
       "15     31       0.790      0.97250\n",
       "16     33       0.796      0.97750\n",
       "17     35       0.810      0.98225\n",
       "18     37       0.801      0.97975\n",
       "19     39       0.810      0.98475"
      ]
     },
     "execution_count": 12,
     "metadata": {},
     "output_type": "execute_result"
    }
   ],
   "source": [
    "max_depth_dict = {'depth':[], 'train_score':[], 'test_score':[]}\n",
    "\n",
    "for depth in range(1, 40, 2):\n",
    "    random_forest = RandomForestClassifier(n_estimators = 20, max_depth = depth)\n",
    "    random_forest.fit(X_train, y_train)\n",
    "    \n",
    "    train_score = random_forest.score(X_train, y_train)        \n",
    "    test_score = random_forest.score(X_test, y_test)    \n",
    "\n",
    "    max_depth_dict['depth'].append(depth)        \n",
    "    max_depth_dict['train_score'].append(train_score)\n",
    "    max_depth_dict['test_score'].append(test_score)    \n",
    "    \n",
    "max_depth_df = pd.DataFrame(max_depth_dict)\n",
    "max_depth_df"
   ]
  },
  {
   "cell_type": "code",
   "execution_count": 13,
   "metadata": {},
   "outputs": [
    {
     "data": {
      "image/png": "[encoded data removed]",
      "text/plain": [
       "<Figure size 432x288 with 1 Axes>"
      ]
     },
     "metadata": {},
     "output_type": "display_data"
    }
   ],
   "source": [
    "plt.plot(max_depth_dict['depth'], max_depth_dict['train_score'], label = 'train')\n",
    "plt.plot(max_depth_dict['depth'], max_depth_dict['test_score'], label = 'test')\n",
    "plt.xlabel('max_depth')\n",
    "plt.ylabel('Accuracy')\n",
    "plt.legend()\n",
    "plt.show()"
   ]
  },
  {
   "cell_type": "markdown",
   "metadata": {},
   "source": [
    "** Discussion **\n",
    "\n",
    "For the `max_depth` hyperparameter, the training accuracy keeps increasing but the test accuracy plateaus after max_depth = 11 indicating overfitting. "
   ]
  },
  {
   "cell_type": "markdown",
   "metadata": {},
   "source": [
    "### 1(c)\n",
    "rubric={reasoning:2}\n",
    "\n",
    "Give one advantage and one disadvantage of random forests compared to classification models that we learned previously (e.g., $k$-NN, decision trees). "
   ]
  },
  {
   "cell_type": "markdown",
   "metadata": {},
   "source": [
    "**Advantages of random forests**\n",
    "1. Powerful and a great off-the-shelf classifier. \n",
    "2. Predictions are much faster compared to $k$-NN \n",
    "\n",
    "**Disdvantages of random forests**\n",
    "1. Slow training, as we fit multiple estimators but can be easily parallelized."
   ]
  },
  {
   "cell_type": "markdown",
   "metadata": {},
   "source": [
    "### (optional) 1(d)\n",
    "rubric={reasoning:1}\n",
    "\n",
    "How much randomness is there really in **random** forests? Do the results change drastically if you re-fit a forest using the same data and same hyperparameters (try it)? If it does, is that worrying?"
   ]
  },
  {
   "cell_type": "code",
   "execution_count": 14,
   "metadata": {},
   "outputs": [],
   "source": [
    "train_accuracies = []\n",
    "test_accuracies = []\n",
    "\n",
    "for i in range(20):\n",
    "    X_train, X_test, y_train, y_test = train_test_split(X_imdb, y_imdb, test_size = 0.20)\n",
    "    random_forest = RandomForestClassifier(n_estimators=5)\n",
    "    random_forest.fit(X_train, y_train)\n",
    "    train_accuracies.append(random_forest.score(X_train, y_train))    \n",
    "    test_accuracies.append(random_forest.score(X_test, y_test))"
   ]
  },
  {
   "cell_type": "code",
   "execution_count": 15,
   "metadata": {},
   "outputs": [
    {
     "data": {
      "image/png": "[encoded data removed]",
      "text/plain": [
       "<Figure size 432x288 with 1 Axes>"
      ]
     },
     "metadata": {},
     "output_type": "display_data"
    }
   ],
   "source": [
    "plt.plot(range(20), train_accuracies, label = 'train')\n",
    "plt.plot(range(20), test_accuracies, label = 'test')\n",
    "plt.xlabel('Experiment number')\n",
    "plt.ylabel('Accuracy')\n",
    "plt.legend()\n",
    "plt.show()"
   ]
  },
  {
   "cell_type": "markdown",
   "metadata": {},
   "source": [
    "## (optional) Exercise 2: Gradient Tree Boosting\n",
    "\n",
    "Boosting is an ensemble technique to combine a set of weak learners into a strong learner. In this exercise you will play with the [Gradient Tree Boosting classifier](https://scikit-learn.org/stable/modules/generated/sklearn.ensemble.GradientBoostingClassifier.html). "
   ]
  },
  {
   "cell_type": "markdown",
   "metadata": {},
   "source": [
    "### (optional) 2(a) Compare gradient tree boosting with random forests and decision trees\n",
    "rubric={reasoning:1}\n",
    "\n",
    "1. Pick a dataset of your choice or create some fake data for binary or multiclass classification. (If you have trouble finding a dataset, you are welcome to use the following dataset from sklearn.)\n",
    "2. Split the dataset into train (80%) and test (20%). \n",
    "2. Train decision tree and random forest classifiers on the train portion. Note the accuracies on the test portion. \n",
    "3. Now train the [Gradient Tree Boosting classifier](https://scikit-learn.org/stable/modules/generated/sklearn.ensemble.GradientBoostingClassifier.html) and note the training and test accuracies. You are welcome to play with the hyperparameters. \n",
    "4. Do you get better accuracies with boosting? Discuss your results."
   ]
  },
  {
   "cell_type": "markdown",
   "metadata": {},
   "source": [
    "### Begin starter code"
   ]
  },
  {
   "cell_type": "code",
   "execution_count": 16,
   "metadata": {
    "collapsed": true,
    "jupyter": {
     "outputs_hidden": true
    }
   },
   "outputs": [],
   "source": [
    "from sklearn.ensemble import GradientBoostingClassifier"
   ]
  },
  {
   "cell_type": "code",
   "execution_count": 17,
   "metadata": {
    "collapsed": true,
    "jupyter": {
     "outputs_hidden": true
    }
   },
   "outputs": [],
   "source": [
    "from sklearn.datasets import make_hastie_10_2\n",
    "\n",
    "X, y = make_hastie_10_2(random_state=0)\n",
    "X_train, X_test = X[:2000], X[2000:]\n",
    "y_train, y_test = y[:2000], y[2000:]"
   ]
  },
  {
   "cell_type": "markdown",
   "metadata": {},
   "source": [
    "### End starter code"
   ]
  },
  {
   "cell_type": "code",
   "execution_count": 18,
   "metadata": {},
   "outputs": [
    {
     "data": {
      "text/plain": [
       "0.7327"
      ]
     },
     "execution_count": 18,
     "metadata": {},
     "output_type": "execute_result"
    }
   ],
   "source": [
    "decision_tree = tree.DecisionTreeClassifier()\n",
    "decision_tree.fit(X_train, y_train)\n",
    "decision_tree.score(X_test, y_test)"
   ]
  },
  {
   "cell_type": "code",
   "execution_count": 19,
   "metadata": {},
   "outputs": [
    {
     "data": {
      "text/plain": [
       "0.8628"
      ]
     },
     "execution_count": 19,
     "metadata": {},
     "output_type": "execute_result"
    }
   ],
   "source": [
    "random_forest = RandomForestClassifier(n_estimators=50)\n",
    "random_forest.fit(X_train, y_train)\n",
    "random_forest.score(X_test, y_test)"
   ]
  },
  {
   "cell_type": "code",
   "execution_count": 20,
   "metadata": {},
   "outputs": [
    {
     "data": {
      "text/plain": [
       "0.913"
      ]
     },
     "execution_count": 20,
     "metadata": {},
     "output_type": "execute_result"
    }
   ],
   "source": [
    "gbs = GradientBoostingClassifier(n_estimators=100, learning_rate=1.0,\n",
    "                                 max_depth=1, random_state=0)\n",
    "gbs.fit(X_train, y_train)\n",
    "gbs.score(X_test, y_test)                 "
   ]
  },
  {
   "cell_type": "markdown",
   "metadata": {},
   "source": [
    "### (optional) 2(b) Tree-based regressors\n",
    "rubric={reasoning:1}\n",
    "\n",
    "All these tree-based models can also be used for regression. In this exercise you will compare tree-based regressors using [sklearn's boston house-prices dataset](https://scikit-learn.org/stable/modules/generated/sklearn.datasets.load_boston.html).\n",
    "\n",
    "1. Load the dataset into X and y and split it into train (80%) and test (20%).\n",
    "2. Train three tree-based regressors on the train portion: [DecisionTreeRegressor](https://scikit-learn.org/stable/modules/generated/sklearn.tree.DecisionTreeRegressor.html), [RandomForestRegressor](https://scikit-learn.org/stable/modules/generated/sklearn.ensemble.RandomForestRegressor.html), [GradientBoostingRegressor](https://scikit-learn.org/stable/modules/generated/sklearn.ensemble.GradientBoostingRegressor.html#sklearn.ensemble.GradientBoostingRegressor), with the same hyperparameters.\n",
    "3. Compare the results on the test portion and note your observations. "
   ]
  },
  {
   "cell_type": "code",
   "execution_count": 21,
   "metadata": {
    "collapsed": true,
    "jupyter": {
     "outputs_hidden": true
    }
   },
   "outputs": [],
   "source": [
    "from sklearn.datasets import load_boston\n",
    "from sklearn.utils import shuffle"
   ]
  },
  {
   "cell_type": "code",
   "execution_count": 22,
   "metadata": {
    "collapsed": true,
    "jupyter": {
     "outputs_hidden": true
    }
   },
   "outputs": [],
   "source": [
    "from sklearn.tree import DecisionTreeRegressor\n",
    "from sklearn.ensemble import GradientBoostingRegressor, RandomForestRegressor"
   ]
  },
  {
   "cell_type": "code",
   "execution_count": 23,
   "metadata": {
    "collapsed": true,
    "jupyter": {
     "outputs_hidden": true
    }
   },
   "outputs": [],
   "source": [
    "boston = load_boston()\n",
    "X, y = shuffle(boston.data, boston.target, random_state=13)\n",
    "X = X.astype(np.float32)\n",
    "offset = int(X.shape[0] * 0.9)\n",
    "X_train, y_train = X[:offset], y[:offset]\n",
    "X_test, y_test = X[offset:], y[offset:]"
   ]
  },
  {
   "cell_type": "code",
   "execution_count": 24,
   "metadata": {
    "collapsed": true,
    "jupyter": {
     "outputs_hidden": true
    }
   },
   "outputs": [],
   "source": [
    "params = {'n_estimators': 100, 'max_depth': 4}\n",
    "decision_tree_model = DecisionTreeRegressor(max_depth = 4)\n",
    "random_forest_model = RandomForestRegressor(**params)\n",
    "gradient_boosting_model = GradientBoostingRegressor(**params)"
   ]
  },
  {
   "cell_type": "code",
   "execution_count": 25,
   "metadata": {
    "collapsed": true,
    "jupyter": {
     "outputs_hidden": true
    }
   },
   "outputs": [],
   "source": [
    "decision_tree_model.fit(X_train, y_train);\n",
    "random_forest_model.fit(X_train, y_train);\n",
    "gradient_boosting_model.fit(X_train, y_train);"
   ]
  },
  {
   "cell_type": "code",
   "execution_count": 26,
   "metadata": {},
   "outputs": [
    {
     "name": "stdout",
     "output_type": "stream",
     "text": [
      "decision tree regression:  0.7252342944934349\n",
      "random forest regression:  0.8281425785121896\n",
      "gradient boosting regression:  0.8671167079162282\n"
     ]
    }
   ],
   "source": [
    "print('decision tree regression: ', decision_tree_model.score(X_test, y_test))\n",
    "print('random forest regression: ', random_forest_model.score(X_test, y_test))\n",
    "print('gradient boosting regression: ', gradient_boosting_model.score(X_test, y_test))"
   ]
  },
  {
   "cell_type": "markdown",
   "metadata": {},
   "source": [
    "## Exercise 3: Support Vector Machines (SVM)\n",
    "\n",
    "In this exercise, you will again use `X_imdb` and `y_imdb` from the IMDB subset above. Divide this subset of IMDB reviews dataset into train (80%) and test (20%) portions. You will use [scikit-learn implementation of an SVM](http://scikit-learn.org/stable/modules/generated/sklearn.svm.SVC.html). "
   ]
  },
  {
   "cell_type": "code",
   "execution_count": 27,
   "metadata": {
    "collapsed": true,
    "jupyter": {
     "outputs_hidden": true
    }
   },
   "outputs": [],
   "source": [
    "from sklearn.svm import SVC"
   ]
  },
  {
   "cell_type": "markdown",
   "metadata": {},
   "source": [
    "### 3(a): Kernels in SVM classification\n",
    "rubric={accuracy:2,quality:2,reasoning:2}\n",
    "\n",
    "1. Try three different kernels: linear, polynomial (with `gamma=0.001`), and RBF. \n",
    "2. Report the train and test accuracies in each case.\n",
    "3. Briefly note your observations. Why do you think `scikit-learn` uses an RBF kernel by default? "
   ]
  },
  {
   "cell_type": "code",
   "execution_count": 28,
   "metadata": {
    "collapsed": true,
    "jupyter": {
     "outputs_hidden": true
    }
   },
   "outputs": [],
   "source": [
    "X = X_imdb\n",
    "y = y_imdb"
   ]
  },
  {
   "cell_type": "code",
   "execution_count": 29,
   "metadata": {
    "collapsed": true,
    "jupyter": {
     "outputs_hidden": true
    }
   },
   "outputs": [],
   "source": [
    "def get_train_test_accuracies(X, y, model):\n",
    "    \"\"\"\n",
    "    \"\"\"\n",
    "    X_train, X_test, y_train, y_test = train_test_split(X, y, \n",
    "                                                        test_size = 0.20, \n",
    "                                                        random_state = 12)    \n",
    "    model.fit(X_train, y_train)\n",
    "    return model.score(X_train, y_train), model.score(X_test, y_test)    "
   ]
  },
  {
   "cell_type": "code",
   "execution_count": 30,
   "metadata": {
    "collapsed": true,
    "jupyter": {
     "outputs_hidden": true
    }
   },
   "outputs": [],
   "source": [
    "kernel_experiments = {'kernel':[], 'train_accuracy':[], 'test_accuracy':[]}\n",
    "kernels = ['linear', 'poly', 'rbf']\n",
    "for kernel in kernels:\n",
    "    model = SVC(kernel = kernel, degree=2, gamma='scale')        \n",
    "    train_accuracy, test_accuracy = get_train_test_accuracies(X, y, model)\n",
    "    kernel_experiments['kernel'].append(kernel)\n",
    "    kernel_experiments['train_accuracy'].append(train_accuracy)\n",
    "    kernel_experiments['test_accuracy'].append(test_accuracy)"
   ]
  },
  {
   "cell_type": "code",
   "execution_count": 31,
   "metadata": {},
   "outputs": [
    {
     "data": {
      "text/html": [
       "<div>\n",
       "<style>\n",
       "    .dataframe thead tr:only-child th {\n",
       "        text-align: right;\n",
       "    }\n",
       "\n",
       "    .dataframe thead th {\n",
       "        text-align: left;\n",
       "    }\n",
       "\n",
       "    .dataframe tbody tr th {\n",
       "        vertical-align: top;\n",
       "    }\n",
       "</style>\n",
       "<table border=\"1\" class=\"dataframe\">\n",
       "  <thead>\n",
       "    <tr style=\"text-align: right;\">\n",
       "      <th></th>\n",
       "      <th>kernel</th>\n",
       "      <th>test_accuracy</th>\n",
       "      <th>train_accuracy</th>\n",
       "    </tr>\n",
       "  </thead>\n",
       "  <tbody>\n",
       "    <tr>\n",
       "      <th>0</th>\n",
       "      <td>linear</td>\n",
       "      <td>0.830</td>\n",
       "      <td>1.0000</td>\n",
       "    </tr>\n",
       "    <tr>\n",
       "      <th>1</th>\n",
       "      <td>poly</td>\n",
       "      <td>0.494</td>\n",
       "      <td>0.5015</td>\n",
       "    </tr>\n",
       "    <tr>\n",
       "      <th>2</th>\n",
       "      <td>rbf</td>\n",
       "      <td>0.837</td>\n",
       "      <td>0.8800</td>\n",
       "    </tr>\n",
       "  </tbody>\n",
       "</table>\n",
       "</div>"
      ],
      "text/plain": [
       "   kernel  test_accuracy  train_accuracy\n",
       "0  linear          0.830          1.0000\n",
       "1    poly          0.494          0.5015\n",
       "2     rbf          0.837          0.8800"
      ]
     },
     "execution_count": 31,
     "metadata": {},
     "output_type": "execute_result"
    }
   ],
   "source": [
    "kernel_df = pd.DataFrame(kernel_experiments)\n",
    "kernel_df"
   ]
  },
  {
   "cell_type": "markdown",
   "metadata": {},
   "source": [
    "**Discussion**\n",
    "\n",
    "1. SVC model with a linear kernel is overfitting, as the trainng accuracy is 1.0, whereas test accuracy is 0.81\n",
    "2. SVC model with a polynomial (degree = 2) kernel is underfitting; the training accuracy is just 0.50, which is close to random classification. \n",
    "3. SVC model with a rbf kernel seems to give the best test accuracy for this dataset, which is indicative of why `scikit-learn` might be using this kernel as default. An SVM model with an RBF kernel is an effective off-the-shelf model. "
   ]
  },
  {
   "cell_type": "markdown",
   "metadata": {},
   "source": [
    "### 3(b): `gamma` and `C` hyperparameters\n",
    "rubric={reasoning:1}\n",
    "\n",
    "1. Play around with the `C` and `gamma` hyperparameters. Try 5 different values for each of these parameters. \n",
    "2. What effects do they have? Can you relate them to the fundamental tradeoff of ML?"
   ]
  },
  {
   "cell_type": "code",
   "execution_count": 32,
   "metadata": {
    "collapsed": true,
    "jupyter": {
     "outputs_hidden": true
    }
   },
   "outputs": [],
   "source": [
    "gamma_experiments = {}\n",
    "gammas = [10.0**(i-3) for i in range(5)]\n",
    "\n",
    "for gamma in gammas:\n",
    "    model = SVC(gamma=gamma)        \n",
    "    train_accuracy, test_accuracy = get_train_test_accuracies(X, y, model)    \n",
    "    gamma_experiments[gamma] = {'train_accuracy':train_accuracy, 'test_accuracy':test_accuracy}"
   ]
  },
  {
   "cell_type": "code",
   "execution_count": 33,
   "metadata": {},
   "outputs": [
    {
     "data": {
      "text/html": [
       "<div>\n",
       "<style>\n",
       "    .dataframe thead tr:only-child th {\n",
       "        text-align: right;\n",
       "    }\n",
       "\n",
       "    .dataframe thead th {\n",
       "        text-align: left;\n",
       "    }\n",
       "\n",
       "    .dataframe tbody tr th {\n",
       "        vertical-align: top;\n",
       "    }\n",
       "</style>\n",
       "<table border=\"1\" class=\"dataframe\">\n",
       "  <thead>\n",
       "    <tr style=\"text-align: right;\">\n",
       "      <th></th>\n",
       "      <th>0.001</th>\n",
       "      <th>0.01</th>\n",
       "      <th>0.1</th>\n",
       "      <th>1.0</th>\n",
       "      <th>10.0</th>\n",
       "    </tr>\n",
       "  </thead>\n",
       "  <tbody>\n",
       "    <tr>\n",
       "      <th>test_accuracy</th>\n",
       "      <td>0.8250</td>\n",
       "      <td>0.85500</td>\n",
       "      <td>0.60700</td>\n",
       "      <td>0.494</td>\n",
       "      <td>0.494</td>\n",
       "    </tr>\n",
       "    <tr>\n",
       "      <th>train_accuracy</th>\n",
       "      <td>0.8555</td>\n",
       "      <td>0.96875</td>\n",
       "      <td>0.99975</td>\n",
       "      <td>1.000</td>\n",
       "      <td>1.000</td>\n",
       "    </tr>\n",
       "  </tbody>\n",
       "</table>\n",
       "</div>"
      ],
      "text/plain": [
       "                0.001    0.010    0.100   1.000   10.000\n",
       "test_accuracy   0.8250  0.85500  0.60700   0.494   0.494\n",
       "train_accuracy  0.8555  0.96875  0.99975   1.000   1.000"
      ]
     },
     "execution_count": 33,
     "metadata": {},
     "output_type": "execute_result"
    }
   ],
   "source": [
    "gamma_df = pd.DataFrame(gamma_experiments)\n",
    "gamma_df"
   ]
  },
  {
   "cell_type": "code",
   "execution_count": 34,
   "metadata": {
    "collapsed": true,
    "jupyter": {
     "outputs_hidden": true
    }
   },
   "outputs": [],
   "source": [
    "C_experiments = {}\n",
    "C = [10.0**(i-1) for i in range(5)]\n",
    "\n",
    "for c in C:\n",
    "    model = SVC(C = c, gamma='scale')        \n",
    "    train_accuracy, test_accuracy = get_train_test_accuracies(X, y, model)\n",
    "    C_experiments[c] = {'train_accuracy':train_accuracy, 'test_accuracy':test_accuracy}        "
   ]
  },
  {
   "cell_type": "code",
   "execution_count": 35,
   "metadata": {},
   "outputs": [
    {
     "data": {
      "text/html": [
       "<div>\n",
       "<style>\n",
       "    .dataframe thead tr:only-child th {\n",
       "        text-align: right;\n",
       "    }\n",
       "\n",
       "    .dataframe thead th {\n",
       "        text-align: left;\n",
       "    }\n",
       "\n",
       "    .dataframe tbody tr th {\n",
       "        vertical-align: top;\n",
       "    }\n",
       "</style>\n",
       "<table border=\"1\" class=\"dataframe\">\n",
       "  <thead>\n",
       "    <tr style=\"text-align: right;\">\n",
       "      <th></th>\n",
       "      <th>0.1</th>\n",
       "      <th>1.0</th>\n",
       "      <th>10.0</th>\n",
       "      <th>100.0</th>\n",
       "      <th>1000.0</th>\n",
       "    </tr>\n",
       "  </thead>\n",
       "  <tbody>\n",
       "    <tr>\n",
       "      <th>test_accuracy</th>\n",
       "      <td>0.59100</td>\n",
       "      <td>0.837</td>\n",
       "      <td>0.8540</td>\n",
       "      <td>0.83500</td>\n",
       "      <td>0.833</td>\n",
       "    </tr>\n",
       "    <tr>\n",
       "      <th>train_accuracy</th>\n",
       "      <td>0.59975</td>\n",
       "      <td>0.880</td>\n",
       "      <td>0.9725</td>\n",
       "      <td>0.99975</td>\n",
       "      <td>1.000</td>\n",
       "    </tr>\n",
       "  </tbody>\n",
       "</table>\n",
       "</div>"
      ],
      "text/plain": [
       "                 0.1     1.0     10.0     100.0   1000.0\n",
       "test_accuracy   0.59100   0.837  0.8540  0.83500   0.833\n",
       "train_accuracy  0.59975   0.880  0.9725  0.99975   1.000"
      ]
     },
     "execution_count": 35,
     "metadata": {},
     "output_type": "execute_result"
    }
   ],
   "source": [
    "C_df = pd.DataFrame(C_experiments)\n",
    "C_df"
   ]
  },
  {
   "cell_type": "markdown",
   "metadata": {},
   "source": [
    "** Discussion **\n",
    "1. Increasing the `gamma` value leads to overfitting; training accuracy reaches 1.0 but the test accuracy drops drastrically. \n",
    "2. Increasing the `C` value also leads to overfitting. However the test accuracy drop is not as drastic as 1. "
   ]
  },
  {
   "cell_type": "markdown",
   "metadata": {},
   "source": [
    "### 3(c) Multiclass classification with SVM\n",
    "rubric={accuracy:2,reasoning:2}\n",
    "\n",
    "Supervised machine learning algorithms such as random forests or decision trees can discern between more than two classes by default but support vector machines are inherently binary classifiers. That said, they can be used to multiclass classification. There are two popular methods used to apply binary classifiers to multiclass problem: one-vs-rest (ovr) or one-vs-all (ova) and one-vs-one (ovo). \n",
    "[Here](https://scikit-learn.org/stable/modules/multiclass.html) you will find summary of how `scikit-learn` handles multi-class classification for different classifiers. `SVC` multiclass mode is implemented using one-vs-one scheme whereas `LinearSVC` uses one-vs-rest scheme. That said, we can use the [`OneVsRestClassifier wrapper`](https://scikit-learn.org/stable/modules/generated/sklearn.multiclass.OneVsRestClassifier.html) to implement one-vs-rest with `SVC`. "
   ]
  },
  {
   "cell_type": "markdown",
   "metadata": {},
   "source": [
    "A starter code to create synthetic data for multi-class classification is provided below. \n",
    "\n",
    "1. Split `X` and `y` into train (80%) and test (20%).\n",
    "2. Train SVC with its default `ovo` multiclass classification strategy. Note train and test accuracies. Use `OneVsOneClassifier` wrapper (i.e., by creating `model = OneVsOneClassifier(SVC())`) and check whether you get more or less the same accuracies.   \n",
    "3. Train SVC with with `ovr` multiclass classification strategy by using the `OneVsRestClassifier` wrapper. Note train and test accuracies.  \n",
    "4. Note your observations. (You are welcome to play around with number of classes in the synthetic data.)"
   ]
  },
  {
   "cell_type": "code",
   "execution_count": 36,
   "metadata": {
    "scrolled": true
   },
   "outputs": [
    {
     "data": {
      "image/png": "[encoded data removed]",
      "text/plain": [
       "<Figure size 432x288 with 1 Axes>"
      ]
     },
     "metadata": {},
     "output_type": "display_data"
    }
   ],
   "source": [
    "from sklearn.datasets import make_blobs\n",
    "from sklearn.multiclass import OneVsRestClassifier, OneVsOneClassifier\n",
    "\n",
    "# generate blobs with fixed random generator\n",
    "X, y = make_blobs(n_samples=500, centers=25, random_state=300)\n",
    "\n",
    "plt.scatter(*X.T, c=y, marker='.', cmap='Dark2');"
   ]
  },
  {
   "cell_type": "code",
   "execution_count": 37,
   "metadata": {
    "collapsed": true,
    "jupyter": {
     "outputs_hidden": true
    }
   },
   "outputs": [],
   "source": [
    "X_train, X_test, y_train, y_test = train_test_split(X, y, test_size = 0.20)"
   ]
  },
  {
   "cell_type": "code",
   "execution_count": 38,
   "metadata": {},
   "outputs": [
    {
     "name": "stdout",
     "output_type": "stream",
     "text": [
      "100 loops, best of 3: 6.44 ms per loop\n",
      "OVO default method\n",
      "0.7625\n",
      "0.69\n"
     ]
    }
   ],
   "source": [
    "model = SVC(gamma = 'scale')\n",
    "%timeit model.fit(X_train, y_train);\n",
    "print('OVO default method')\n",
    "print(model.score(X_train, y_train))\n",
    "print(model.score(X_test, y_test))"
   ]
  },
  {
   "cell_type": "code",
   "execution_count": 39,
   "metadata": {},
   "outputs": [
    {
     "name": "stdout",
     "output_type": "stream",
     "text": [
      "1 loop, best of 3: 193 ms per loop\n",
      "With OVO wrapper\n",
      "0.765\n",
      "0.68\n"
     ]
    }
   ],
   "source": [
    "model = OneVsOneClassifier(SVC(gamma = 'scale'))\n",
    "% timeit model.fit(X_train, y_train);\n",
    "print('With OVO wrapper')\n",
    "print(model.score(X_train, y_train))\n",
    "print(model.score(X_test, y_test))"
   ]
  },
  {
   "cell_type": "code",
   "execution_count": 40,
   "metadata": {},
   "outputs": [
    {
     "name": "stdout",
     "output_type": "stream",
     "text": [
      "10 loops, best of 3: 32.7 ms per loop\n",
      "With OVR method\n",
      "0.725\n",
      "0.69\n"
     ]
    }
   ],
   "source": [
    "model = OneVsRestClassifier(SVC(gamma='scale'))\n",
    "% timeit model.fit(X_train, y_train)\n",
    "print('With OVR method')\n",
    "print(model.score(X_train, y_train))\n",
    "print(model.score(X_test, y_test))"
   ]
  },
  {
   "cell_type": "markdown",
   "metadata": {},
   "source": [
    "**Discussion**\n",
    "\n",
    "1. The results of the default OVO method and the wrapper OVO method are more or less the same. \n",
    "2. The wrapper OVR is a bit faster compared to the wrapper OVO. \n"
   ]
  },
  {
   "cell_type": "markdown",
   "metadata": {},
   "source": [
    "### (optional) 3(d): Support vectors\n",
    "rubric={reasoning:1}\n",
    "\n",
    "In this exercise, you will investigate the notion of support vectors. \n",
    "\n",
    "Again split the IMDB subset into train and test. Now based on the results in 3a, choose a model with reasonable hyperparameter values and train an SVM on the train split. \n",
    "\n",
    "1. Use `n_support_` attribute of the model (see the Attributes subsection [here](https://scikit-learn.org/stable/modules/generated/sklearn.svm.SVC.html)) to get the number of support vectors. \n",
    "2. You will see that the number of support vectors is smaller compared to the number of training examples. This is the appeal of the SVM, as a small number of support vectors causes it to run very fast with kernels. \n",
    "3. Now, your task is to do a sanity check on the above. One definition of a support vector is that if that example were removed, the decision boundary would change, whereas if a non-support-vector is removed nothing is supposed to change. We can inspect the decision boundary by printing out the learned parameters of the SVM. So your task is to remove one support vector and show that the parameters change, and then remove one non-support-vector and show that the parameters stay the same. To check whether two numpy arrays are equal, you may use `numpy.array_equal`. To delete an element from a numpy array you can use `numpy.delete`. \n",
    "\n",
    "In case this is helpful (if not, pls ignore): note that the parameters are the same thing as the decision boundary; they are the numerical representation of the boundary, which is a hyperplane in $d-1$ dimensions. That's why checking whether the parameters change is the same as checking whether the decision boundary changes.\n",
    "\n",
    "(Note: I guess it would be better to check this property for all $N$ training examples but I think it's good enough to just pick one SV and one non-SV based on the list of SV indices given above. Doing it for all shouldn't be hard actually -- it's just an extra `for` loop.)"
   ]
  },
  {
   "cell_type": "markdown",
   "metadata": {},
   "source": []
  },
  {
   "cell_type": "code",
   "execution_count": 33,
   "metadata": {},
   "outputs": [],
   "source": [
    "# Split X_imdb into 80% train and 20% test\n",
    "X_train, X_test, y_train, y_test = train_test_split(X_imdb, y_imdb, test_size=0.2, random_state=4)\n",
    "\n",
    "# Fit a linear SVM model\n",
    "linear_svm = SVC(kernel=\"linear\", C=1e6)\n",
    "linear_svm.fit(X_train, y_train)\n",
    "\n",
    "# Get the number of training examples\n",
    "n = X_train.shape[0]"
   ]
  },
  {
   "cell_type": "code",
   "execution_count": 34,
   "metadata": {},
   "outputs": [
    {
     "name": "stdout",
     "output_type": "stream",
     "text": [
      "There are 1730 support vectors out of 4000 training examples\n"
     ]
    }
   ],
   "source": [
    "sv = linear_svm.n_support_\n",
    "print(\"There are %d support vectors out of %d training examples\" % (linear_svm.support_.size, n))"
   ]
  },
  {
   "cell_type": "code",
   "execution_count": 35,
   "metadata": {},
   "outputs": [],
   "source": [
    "not_sv = list(set(range(n)) - set(sv))"
   ]
  },
  {
   "cell_type": "code",
   "execution_count": 36,
   "metadata": {},
   "outputs": [],
   "source": [
    "# Remove a support vector \n",
    "X_sv = np.delete(X_train.todense(), sv[0], 0)\n",
    "y_sv = np.delete(y_train.values, sv[0])\n",
    "\n",
    "# Remove a non-support vector\n",
    "X_not_sv = np.delete(X_train.todense(), not_sv[0], 0)\n",
    "y_not_sv = np.delete(y_train.values, not_sv[0])"
   ]
  },
  {
   "cell_type": "code",
   "execution_count": 37,
   "metadata": {},
   "outputs": [],
   "source": [
    "# Create a SVC object after removing a support vector. \n",
    "sv_removed_SVM = SVC(kernel=\"linear\", C=1e6)\n",
    "sv_removed_SVM.fit(X_sv, y_sv);\n",
    "# Fit a model with new training data after removing a non-support vector\n",
    "non_sv_removed_SVM = SVC(kernel=\"linear\", C=1e6)\n",
    "non_sv_removed_SVM.fit(X_not_sv, y_not_sv);"
   ]
  },
  {
   "cell_type": "code",
   "execution_count": 39,
   "metadata": {},
   "outputs": [
    {
     "name": "stdout",
     "output_type": "stream",
     "text": [
      "The learned weight of the original SVM model: \n",
      "[[ 0.10756356  0.04747278 -0.23141232 ... -0.01522512  0.17901889\n",
      "  -0.06888064]]\n",
      "The learned weights after removing a support vector: \n",
      "[[ 0.10751284  0.04738689 -0.23139165 ... -0.01522574  0.17904124\n",
      "  -0.06890922]]\n",
      "The learned weights after removing a non-support vector: \n",
      "[[ 0.10756356  0.04747278 -0.23141232 ... -0.01522512  0.17901889\n",
      "  -0.06888064]]\n"
     ]
    }
   ],
   "source": [
    "print(\"The learned weight of the original SVM model: \")\n",
    "print(linear_svm.coef_.todense())\n",
    "print\n",
    "print(\"The learned weights after removing a support vector: \")\n",
    "print(sv_removed_SVM.coef_)\n",
    "print\n",
    "print(\"The learned weights after removing a non-support vector: \")\n",
    "print(non_sv_removed_SVM.coef_)\n",
    "\n",
    "assert np.array_equal(linear_svm.coef_.todense(), non_sv_removed_SVM.coef_) == True, \"Expected to be equal\"\n",
    "assert np.array_equal(linear_svm.coef_.todense(), sv_removed_SVM.coef_) == False, \"Expected to be unequal\""
   ]
  },
  {
   "cell_type": "markdown",
   "metadata": {},
   "source": [
    "## Exercise 4: Logistic regression"
   ]
  },
  {
   "cell_type": "markdown",
   "metadata": {},
   "source": [
    "### 4(a) Logistic regression model \n",
    "rubric={accuracy:2,reasoning:2}\n",
    "\n",
    "In this exercise you will work with another linear model called _Logistic Regression_.\n",
    "\n",
    "1. Split `X_imdb` into train (80%) and test (20%) splits.\n",
    "2. Train [Logistic Regression classifier](https://scikit-learn.org/stable/modules/generated/sklearn.linear_model.LogisticRegression.html) on the train split. How do train and test accuracies compare to the support vector machine classifier in Exercise 3? "
   ]
  },
  {
   "cell_type": "code",
   "execution_count": 47,
   "metadata": {
    "collapsed": true,
    "jupyter": {
     "outputs_hidden": true
    }
   },
   "outputs": [],
   "source": [
    "from sklearn.linear_model import LogisticRegression"
   ]
  },
  {
   "cell_type": "code",
   "execution_count": 48,
   "metadata": {
    "collapsed": true,
    "jupyter": {
     "outputs_hidden": true
    }
   },
   "outputs": [],
   "source": [
    "X_train, X_test, y_train, y_test = train_test_split(X_imdb, \n",
    "                                                    y_imdb, \n",
    "                                                    test_size = 0.20)"
   ]
  },
  {
   "cell_type": "code",
   "execution_count": 49,
   "metadata": {},
   "outputs": [
    {
     "name": "stderr",
     "output_type": "stream",
     "text": [
      "/Users/varada/anaconda3/lib/python3.6/site-packages/sklearn/linear_model/logistic.py:432: FutureWarning: Default solver will be changed to 'lbfgs' in 0.22. Specify a solver to silence this warning.\n",
      "  FutureWarning)\n"
     ]
    },
    {
     "data": {
      "text/plain": [
       "0.823"
      ]
     },
     "execution_count": 49,
     "metadata": {},
     "output_type": "execute_result"
    }
   ],
   "source": [
    "lr = LogisticRegression()\n",
    "lr.fit(X_train, y_train);\n",
    "lr.score(X_test, y_test)"
   ]
  },
  {
   "cell_type": "markdown",
   "metadata": {},
   "source": [
    "### 4(b) Most informative words\n",
    "rubric={reasoning:2}\n",
    "\n",
    "1. For the logistic regression model in 4(a), find the 10 words that are most indicative of a positive review, and the 10 words that are most indicative of a negative review. The information you need is exposed by the [LogisticRegression](http://scikit-learn.org/stable/modules/generated/sklearn.linear_model.LogisticRegression.html) object. The vocabulary (mapping from feature indices to actual words) can be obtained using the following. \n",
    "2. Do these words make sense? \n",
    "3. Would it be hard to get most informative words for classifiers such as random forest classifier or $k$-NNs? "
   ]
  },
  {
   "cell_type": "code",
   "execution_count": 52,
   "metadata": {
    "collapsed": true,
    "jupyter": {
     "outputs_hidden": true
    }
   },
   "outputs": [],
   "source": [
    "vocab = movie_vec.get_feature_names()"
   ]
  },
  {
   "cell_type": "code",
   "execution_count": 53,
   "metadata": {},
   "outputs": [
    {
     "name": "stdout",
     "output_type": "stream",
     "text": [
      "Most negative words: worst, awful, lame, boring, waste, disappointment, worse, predictable, fails, poor\n",
      "Most positive words: brilliant, enjoy, 8/10, hilarious, enjoyed, perfect, great, best, loved, excellent\n"
     ]
    }
   ],
   "source": [
    "## SOLUTION\n",
    "inds = np.argsort(lr.coef_.flatten())\n",
    "negative_words = [vocab[index] for index in inds[:10]]\n",
    "positive_words = [vocab[index] for index in inds[-10:]]\n",
    "print(\"Most negative words: %s\" % \", \".join(negative_words))\n",
    "print(\"Most positive words: %s\" % \", \".join(positive_words))"
   ]
  },
  {
   "cell_type": "markdown",
   "metadata": {},
   "source": [
    "## Exercise 5: Comparison of classifiers\n",
    "\n",
    "In this exercise, you will compare different classifiers covered in this course:\n",
    "  * decision trees\n",
    "  * $k$-nearest neighbours  \n",
    "  * naive Bayes  \n",
    "  * random forests\n",
    "  * SVM\n",
    "  \n",
    "For each classifier, use the scikit-learn implementation with default hyperparameters. "
   ]
  },
  {
   "cell_type": "markdown",
   "metadata": {},
   "source": [
    "### 5(a): Empirical comparison\n",
    "rubric={code:4,quality:2,reasoning:3}\n",
    "\n",
    "Perform the comparison on the following 3 data sets:\n",
    "  * Spotify (used in lab 1 and 2)\n",
    "  * Iris (used in lab 2)\n",
    "  * Smaller subset of IMDB reviews with binary word features (used above)\n",
    "  \n",
    "Split all datasets into train and test split. Report the results for all 15 classifier-dataset combinations in a table  with 4 columns: Dataset, Classifier, Train Accuracy, and Test Accuracy. If a classifier is not applicable for certain dataset, specify that. \n",
    "\n",
    "Discuss your results:  \n",
    "  - Are certain classifiers better for certain problems? Why? \n",
    "  - Would you change any of the hyperparameters? \n",
    "  - What about speed? What would you do for a huge data set? \n",
    "  - Any other considerations?\n",
    "  \n",
    "Note: because all sklearn classifiers use the name fit/predict structure, you can put your 5 classifiers in a list/dict and iterate over them with a loop (and likewise with the data). This will probably be easier writing 15 calls to fit and 15 to predict, etc. For example:"
   ]
  },
  {
   "cell_type": "code",
   "execution_count": 54,
   "metadata": {
    "collapsed": true,
    "jupyter": {
     "outputs_hidden": true
    }
   },
   "outputs": [],
   "source": [
    "from sklearn.datasets import load_iris    \n",
    "iris = load_iris()\n",
    "iris_df = pd.DataFrame(data= np.c_[iris['data'], iris['target']],\n",
    "                     columns= iris['feature_names'] + ['target'])\n",
    "iris_df.head()\n",
    "feature_cols = ['sepal length (cm)', \n",
    "                'sepal width (cm)', \n",
    "                'petal length (cm)',\n",
    "                'petal width (cm)']\n",
    "\n",
    "X_iris = iris_df.loc[:, feature_cols]\n",
    "y_iris = iris_df.target"
   ]
  },
  {
   "cell_type": "code",
   "execution_count": 55,
   "metadata": {
    "collapsed": true,
    "jupyter": {
     "outputs_hidden": true
    }
   },
   "outputs": [],
   "source": [
    "spotify_df = pd.read_csv('spotify.csv')\n",
    "\n",
    "feature_cols = ['acousticness', 'danceability', 'duration_ms', 'energy',\n",
    "                'instrumentalness', 'key', 'liveness', 'loudness', 'mode',\n",
    "                'speechiness', 'tempo', 'time_signature', 'valence']\n",
    "\n",
    "X_spotify = spotify_df.loc[:, feature_cols]\n",
    "y_spotify = spotify_df.target"
   ]
  },
  {
   "cell_type": "code",
   "execution_count": 56,
   "metadata": {},
   "outputs": [],
   "source": [
    "results_dict = {\n",
    "                'Dataset':[], \n",
    "                'Classifier':[],\n",
    "                'Train Accuracy':[], \n",
    "                'Test Accuracy':[]\n",
    "               }\n",
    "\n",
    "models = {\n",
    "    'knn'           : KNeighborsClassifier(),\n",
    "    'decision tree' : DecisionTreeClassifier(),\n",
    "    'random forest' : RandomForestClassifier(n_estimators=10),\n",
    "    'SVM'           : SVC(gamma='auto'),\n",
    "    'logistic regression': LogisticRegression()\n",
    "}\n",
    "\n",
    "datasets = {\n",
    "            'imdb_subset'    : (X_imdb, y_imdb), \n",
    "            'spotify' : (X_spotify, y_spotify),\n",
    "            'iris': (X_iris, y_iris)\n",
    "            }                                                      "
   ]
  },
  {
   "cell_type": "code",
   "execution_count": 57,
   "metadata": {},
   "outputs": [
    {
     "name": "stdout",
     "output_type": "stream",
     "text": [
      "Working on dataset:  imdb_subset\n",
      "Fitting knn...\n",
      "  training accuracy: 0.708750\n",
      "  test     accuracy: 0.534000\n",
      "Fitting decision tree...\n",
      "  training accuracy: 1.000000\n",
      "  test     accuracy: 0.664000\n",
      "Fitting random forest...\n",
      "  training accuracy: 0.991000\n",
      "  test     accuracy: 0.750000\n",
      "Fitting SVM...\n",
      "  training accuracy: 0.708500\n",
      "  test     accuracy: 0.658000\n",
      "Fitting logistic regression...\n",
      "  training accuracy: 0.999250\n",
      "  test     accuracy: 0.838000\n",
      "Working on dataset:  spotify\n",
      "Fitting knn...\n",
      "  training accuracy: 0.717917\n",
      "  test     accuracy: 0.561881\n",
      "Fitting decision tree...\n",
      "  training accuracy: 0.998760\n",
      "  test     accuracy: 0.705446\n",
      "Fitting random forest...\n"
     ]
    },
    {
     "name": "stderr",
     "output_type": "stream",
     "text": [
      "/Users/varada/anaconda3/lib/python3.6/site-packages/sklearn/linear_model/logistic.py:432: FutureWarning: Default solver will be changed to 'lbfgs' in 0.22. Specify a solver to silence this warning.\n",
      "  FutureWarning)\n"
     ]
    },
    {
     "name": "stdout",
     "output_type": "stream",
     "text": [
      "  training accuracy: 0.987601\n",
      "  test     accuracy: 0.742574\n",
      "Fitting SVM...\n",
      "  training accuracy: 0.998760\n",
      "  test     accuracy: 0.482673\n",
      "Fitting logistic regression...\n",
      "  training accuracy: 0.528828\n",
      "  test     accuracy: 0.514851\n",
      "Working on dataset:  iris\n",
      "Fitting knn...\n",
      "  training accuracy: 0.958333\n",
      "  test     accuracy: 1.000000\n",
      "Fitting decision tree...\n",
      "  training accuracy: 1.000000\n",
      "  test     accuracy: 0.933333\n",
      "Fitting random forest...\n",
      "  training accuracy: 0.991667\n",
      "  test     accuracy: 1.000000\n",
      "Fitting SVM...\n",
      "  training accuracy: 0.983333\n",
      "  test     accuracy: 1.000000\n",
      "Fitting logistic regression...\n",
      "  training accuracy: 0.941667\n",
      "  test     accuracy: 0.933333\n"
     ]
    },
    {
     "name": "stderr",
     "output_type": "stream",
     "text": [
      "/Users/varada/anaconda3/lib/python3.6/site-packages/sklearn/linear_model/logistic.py:432: FutureWarning: Default solver will be changed to 'lbfgs' in 0.22. Specify a solver to silence this warning.\n",
      "  FutureWarning)\n",
      "/Users/varada/anaconda3/lib/python3.6/site-packages/sklearn/linear_model/logistic.py:432: FutureWarning: Default solver will be changed to 'lbfgs' in 0.22. Specify a solver to silence this warning.\n",
      "  FutureWarning)\n",
      "/Users/varada/anaconda3/lib/python3.6/site-packages/sklearn/linear_model/logistic.py:459: FutureWarning: Default multi_class will be changed to 'auto' in 0.22. Specify the multi_class option to silence this warning.\n",
      "  \"this warning.\", FutureWarning)\n"
     ]
    }
   ],
   "source": [
    "for (dataset_name, (X,y)) in datasets.items():\n",
    "    X_train, X_test, y_train, y_test = train_test_split(X, y, \n",
    "                                                        test_size = 0.20, \n",
    "                                                        random_state = 15)\n",
    "    print('Working on dataset: ', dataset_name)\n",
    "    for model_name, model in models.items():\n",
    "        print(\"Fitting %s...\" % model_name)\n",
    "        model.fit(X_train, y_train);\n",
    "        train_accuracy = model.score(X_train, y_train)\n",
    "        test_accuracy = model.score(X_test, y_test)\n",
    "        print(\"  training accuracy: %f\" % train_accuracy)\n",
    "        print(\"  test     accuracy: %f\" % test_accuracy)\n",
    "        results_dict['Dataset'].append(dataset_name)\n",
    "        results_dict['Classifier'].append(model_name)\n",
    "        results_dict['Train Accuracy'].append(train_accuracy)\n",
    "        results_dict['Test Accuracy'].append(test_accuracy)  "
   ]
  },
  {
   "cell_type": "code",
   "execution_count": 58,
   "metadata": {},
   "outputs": [
    {
     "data": {
      "text/html": [
       "<div>\n",
       "<style>\n",
       "    .dataframe thead tr:only-child th {\n",
       "        text-align: right;\n",
       "    }\n",
       "\n",
       "    .dataframe thead th {\n",
       "        text-align: left;\n",
       "    }\n",
       "\n",
       "    .dataframe tbody tr th {\n",
       "        vertical-align: top;\n",
       "    }\n",
       "</style>\n",
       "<table border=\"1\" class=\"dataframe\">\n",
       "  <thead>\n",
       "    <tr style=\"text-align: right;\">\n",
       "      <th></th>\n",
       "      <th>Classifier</th>\n",
       "      <th>Dataset</th>\n",
       "      <th>Test Accuracy</th>\n",
       "      <th>Train Accuracy</th>\n",
       "    </tr>\n",
       "  </thead>\n",
       "  <tbody>\n",
       "    <tr>\n",
       "      <th>0</th>\n",
       "      <td>knn</td>\n",
       "      <td>imdb_subset</td>\n",
       "      <td>0.534000</td>\n",
       "      <td>0.708750</td>\n",
       "    </tr>\n",
       "    <tr>\n",
       "      <th>1</th>\n",
       "      <td>decision tree</td>\n",
       "      <td>imdb_subset</td>\n",
       "      <td>0.664000</td>\n",
       "      <td>1.000000</td>\n",
       "    </tr>\n",
       "    <tr>\n",
       "      <th>2</th>\n",
       "      <td>random forest</td>\n",
       "      <td>imdb_subset</td>\n",
       "      <td>0.750000</td>\n",
       "      <td>0.991000</td>\n",
       "    </tr>\n",
       "    <tr>\n",
       "      <th>3</th>\n",
       "      <td>SVM</td>\n",
       "      <td>imdb_subset</td>\n",
       "      <td>0.658000</td>\n",
       "      <td>0.708500</td>\n",
       "    </tr>\n",
       "    <tr>\n",
       "      <th>4</th>\n",
       "      <td>logistic regression</td>\n",
       "      <td>imdb_subset</td>\n",
       "      <td>0.838000</td>\n",
       "      <td>0.999250</td>\n",
       "    </tr>\n",
       "    <tr>\n",
       "      <th>5</th>\n",
       "      <td>knn</td>\n",
       "      <td>spotify</td>\n",
       "      <td>0.561881</td>\n",
       "      <td>0.717917</td>\n",
       "    </tr>\n",
       "    <tr>\n",
       "      <th>6</th>\n",
       "      <td>decision tree</td>\n",
       "      <td>spotify</td>\n",
       "      <td>0.705446</td>\n",
       "      <td>0.998760</td>\n",
       "    </tr>\n",
       "    <tr>\n",
       "      <th>7</th>\n",
       "      <td>random forest</td>\n",
       "      <td>spotify</td>\n",
       "      <td>0.742574</td>\n",
       "      <td>0.987601</td>\n",
       "    </tr>\n",
       "    <tr>\n",
       "      <th>8</th>\n",
       "      <td>SVM</td>\n",
       "      <td>spotify</td>\n",
       "      <td>0.482673</td>\n",
       "      <td>0.998760</td>\n",
       "    </tr>\n",
       "    <tr>\n",
       "      <th>9</th>\n",
       "      <td>logistic regression</td>\n",
       "      <td>spotify</td>\n",
       "      <td>0.514851</td>\n",
       "      <td>0.528828</td>\n",
       "    </tr>\n",
       "    <tr>\n",
       "      <th>10</th>\n",
       "      <td>knn</td>\n",
       "      <td>iris</td>\n",
       "      <td>1.000000</td>\n",
       "      <td>0.958333</td>\n",
       "    </tr>\n",
       "    <tr>\n",
       "      <th>11</th>\n",
       "      <td>decision tree</td>\n",
       "      <td>iris</td>\n",
       "      <td>0.933333</td>\n",
       "      <td>1.000000</td>\n",
       "    </tr>\n",
       "    <tr>\n",
       "      <th>12</th>\n",
       "      <td>random forest</td>\n",
       "      <td>iris</td>\n",
       "      <td>1.000000</td>\n",
       "      <td>0.991667</td>\n",
       "    </tr>\n",
       "    <tr>\n",
       "      <th>13</th>\n",
       "      <td>SVM</td>\n",
       "      <td>iris</td>\n",
       "      <td>1.000000</td>\n",
       "      <td>0.983333</td>\n",
       "    </tr>\n",
       "    <tr>\n",
       "      <th>14</th>\n",
       "      <td>logistic regression</td>\n",
       "      <td>iris</td>\n",
       "      <td>0.933333</td>\n",
       "      <td>0.941667</td>\n",
       "    </tr>\n",
       "  </tbody>\n",
       "</table>\n",
       "</div>"
      ],
      "text/plain": [
       "             Classifier      Dataset  Test Accuracy  Train Accuracy\n",
       "0                   knn  imdb_subset       0.534000        0.708750\n",
       "1         decision tree  imdb_subset       0.664000        1.000000\n",
       "2         random forest  imdb_subset       0.750000        0.991000\n",
       "3                   SVM  imdb_subset       0.658000        0.708500\n",
       "4   logistic regression  imdb_subset       0.838000        0.999250\n",
       "5                   knn      spotify       0.561881        0.717917\n",
       "6         decision tree      spotify       0.705446        0.998760\n",
       "7         random forest      spotify       0.742574        0.987601\n",
       "8                   SVM      spotify       0.482673        0.998760\n",
       "9   logistic regression      spotify       0.514851        0.528828\n",
       "10                  knn         iris       1.000000        0.958333\n",
       "11        decision tree         iris       0.933333        1.000000\n",
       "12        random forest         iris       1.000000        0.991667\n",
       "13                  SVM         iris       1.000000        0.983333\n",
       "14  logistic regression         iris       0.933333        0.941667"
      ]
     },
     "execution_count": 58,
     "metadata": {},
     "output_type": "execute_result"
    }
   ],
   "source": [
    "results_df = pd.DataFrame(results_dict)\n",
    "results_df"
   ]
  },
  {
   "cell_type": "markdown",
   "metadata": {},
   "source": [
    "**Discussion**\n",
    "\n",
    "1. The random forest classifier is consistently performing well on all three datasets.  \n",
    "2. Logistic regression is the best performing classifier on the `imdb_subset` but it struggles on the `spotify` datset. We observe underfitting on this dataset; the train accuracy is only 0.528. SVM seems to be overfitting on the `spotify` dataset. \n",
    "3. It might be intersting to examine whether the same set of hyperparameter values work best for all three datasets.\n",
    "4. In case of $k$-NNs it will be helpful if we scale the data before running the experiments. \n",
    "5. For the given datasets there was no big difference in the speed, as these datasets were not particularly large. "
   ]
  },
  {
   "cell_type": "markdown",
   "metadata": {},
   "source": [
    "### Exercise 5(b): Qualitative comparison of classifiers \n",
    "rubric={reasoning:4}\n",
    "\n",
    "Fill in the following table with at least one entry per box.\n",
    "\n",
    "Classifier |      Strengths | Weaknesses | Key hyperparameters |\n",
    "-----------|      ------------|------------|---------------------|\n",
    "$k$-NN              |            |            |                     |\n",
    "decision tree       |            |            |                     |\n",
    "random forest |            |            |                     |\n",
    "SVM                 |            |            |                     |\n",
    "logistic regression                 |            |            |                     |\n",
    "naive Bayes         |            |            |                     |\n",
    "\n",
    "For strengths and weaknesses, some things to consider are:\n",
    "  * ease of use for multi-class classification\n",
    "  * concerns about underfitting\n",
    "  * concerns about overfitting\n",
    "  * speed\n",
    "  * scalability for large data sets\n",
    "  * effectiveness when number of examples $\\ll$ number of features\n",
    "  * effectiveness when number of examples $\\gg$ number of features\n",
    "  * ability to represent uncertainty\n",
    "  * etc."
   ]
  },
  {
   "cell_type": "markdown",
   "metadata": {},
   "source": [
    "### Answer\n",
    "\n",
    "Classifier |      Strengths | Weaknesses | Key hyperparameters |\n",
    ":-----------|      :------------|:------------|:---------------------|\n",
    "$k$-NN | Minimal training; few moving parts. Runs somewhere between $\\mathcal{O}(d \\log n)$ and $\\mathcal{O}(dn)$ | Sensitive to feature scaling, choice of $k$; distances \"don't make sense\" in high dimensions | `k` |\n",
    "decision tree | Interpretable; validatable; $\\mathcal{O}(\\log n)$ prediction cost | Unstable with respect to data; prone to overfitting: sensitive to `max-depth`. | `max_depth` |\n",
    "random forest | averaging improves accuracy, reduces overfitting | increase in bias due to best-splitting on random subsets. Black box model. | `n_estimators`, `max_depth`, `max_features` |\n",
    "SVM | prediction cost $\\propto$ # support vectors; strong predictive power *via* kernel trick  | Training is $\\mathcal{\\Omega}(dn^2)$ | `C`, `gamma` |\n",
    "logistic regression | Outputs have a nice probabilistic interpretation; training time complexicity is $\\mathcal{O}(dn)$ | doesn't work well when the decision boundaries are non-linear | `C` |\n",
    "naive Bayes | Fast. Natural probabilistic interpretation. | Conditional independence often unrealistic. | `alpha` |"
   ]
  }
 ],
 "metadata": {
  "kernelspec": {
   "display_name": "Python 3",
   "language": "python",
   "name": "python3"
  },
  "language_info": {
   "codemirror_mode": {
    "name": "ipython",
    "version": 3
   },
   "file_extension": ".py",
   "mimetype": "text/x-python",
   "name": "python",
   "nbconvert_exporter": "python",
   "pygments_lexer": "ipython3",
   "version": "3.7.4"
  }
 },
 "nbformat": 4,
 "nbformat_minor": 4
}
